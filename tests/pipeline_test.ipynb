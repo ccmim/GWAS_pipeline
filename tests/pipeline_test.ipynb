{
 "cells": [
  {
   "cell_type": "code",
   "execution_count": 5,
   "metadata": {},
   "outputs": [],
   "source": [
    "import os\n",
    "import pandas as pd\n",
    "import matplotlib\n",
    "import ruamel.yaml as YAML\n",
    "import yaml\n",
    "import logging\n",
    "from subprocess import call\n",
    "from sklearn import linear_model"
   ]
  },
  {
   "cell_type": "code",
   "execution_count": 2,
   "metadata": {},
   "outputs": [],
   "source": [
    "phenotypes = [\n",
    "  \"LVEDV_automatic\",\n",
    "  \"LVESV_automatic\",\n",
    "  \"LVSV_automatic\",\n",
    "  \"LVEF_automatic\",\n",
    "  \"LVM_automatic\",\n",
    "  \"RVEDV_automatic\",\n",
    "  \"RVESV_automatic\",\n",
    "  \"RVSV_automatic\",\n",
    "  \"RVEF_automatic\",\n",
    "  \"LVEDV_manual\",\n",
    "  \"LVESV_manual\",\n",
    "  \"LVSV_manual\",\n",
    "  \"LVEF_manual\",\n",
    "  \"LVM_manual\",\n",
    "  \"RVEDV_manual\",\n",
    "  \"RVESV_manual\",\n",
    "  \"RVSV_manual\",\n",
    "  \"RVEF_manual\"\n",
    "]"
   ]
  },
  {
   "cell_type": "code",
   "execution_count": 3,
   "metadata": {},
   "outputs": [],
   "source": [
    "# copied from http://thoughtsbyclayg.blogspot.com/2008/10/parsing-list-of-numbers-in-python.html\n",
    "# with a few modifications done afterwards\n",
    "def parseIntSet(nputstr=\"\"):\n",
    "  selection = set()\n",
    "  invalid = set()\n",
    "  # tokens are comma seperated values\n",
    "    \n",
    "  tokens = [x.strip() for x in nputstr.split(',')]\n",
    "  for i in tokens:\n",
    "     try:\n",
    "        # autosomal chromosomes are integers between 1 and 22\n",
    "        if int(i) <= 22 and int(i) >= 1:\n",
    "            selection.add(i)\n",
    "        else:\n",
    "            invalid.add(i)\n",
    "     except:\n",
    "        # if not, then it might be a range\n",
    "        try:\n",
    "           token = [int(k.strip()) for k in i.split('-')]\n",
    "           if len(token) > 1:\n",
    "              token.sort()\n",
    "              # we have items seperated by a dash\n",
    "              # try to build a valid range\n",
    "              first = token[0]\n",
    "              last = token[len(token)-1]\n",
    "              for x in range(first, last+1):\n",
    "                 selection.add(str(x))\n",
    "        except:\n",
    "            if i == \"X\" or i == \"Y\":\n",
    "                selection.add(i)            \n",
    "            else: \n",
    "                # not an int and not a range...\n",
    "                invalid.add(i)\n",
    "                \n",
    "  # Report invalid tokens before returning valid selection\n",
    "  # print(\"Invalid set: \" + str(invalid))\n",
    "    \n",
    "  return selection\n",
    "# end parseIntSet\n",
    "    \n",
    "def is_number(s):\n",
    "    try:\n",
    "        float(s)\n",
    "        return True\n",
    "    except ValueError:\n",
    "        return False    "
   ]
  },
  {
   "cell_type": "code",
   "execution_count": 4,
   "metadata": {},
   "outputs": [],
   "source": [
    "class GWAS_Run:\n",
    "    \n",
    "    def __init__(self, yaml_config_file):\n",
    "        \n",
    "        config = yaml.safe_load(open(yaml_config_file))\n",
    "\n",
    "        # dir stands for directory\n",
    "        # f stands for file\n",
    "        # fp stands for file pattern\n",
    "        \n",
    "        ## paths to data\n",
    "        data_dir = config[\"data_dirs\"]\n",
    "        genotype_dir = data_dir[\"genotype\"]\n",
    "        pheno_dir = data_dir[\"phenotype\"]    \n",
    "        indiv_dir = data_dir[\"individuals\"]\n",
    "        output_dir = data_dir[\"output\"]\n",
    "        tmp_dir = data_dir[\"tmp\"]\n",
    "        \n",
    "        if not os.path.exists(output_dir):\n",
    "            os.makedirs(output_dir)\n",
    "            \n",
    "        if not os.path.exists(tmp_dir):\n",
    "            os.makedirs(tmp_dir)\n",
    "\n",
    "        ## file name patterns\n",
    "        fp_config = config[\"filename_pattern\"]\n",
    "        self.indiv_f = os.path.join(indiv_dir, fp_config[\"individuals\"])\n",
    "        self.genotype_fp = os.path.join(genotype_dir, fp_config[\"genotype\"])\n",
    "        self.bim_fp = os.path.join(genotype_dir, fp_config[\"bim\"])\n",
    "        self.fam_fp = os.path.join(genotype_dir, fp_config[\"fam\"])\n",
    "        self.pheno_f = os.path.join(pheno_dir, fp_config[\"phenotype\"])\n",
    "        self.gwas_f = os.path.join(output_dir, fp_config[\"gwas\"])\n",
    "        self.pheno_f_tmp = os.path.join(tmp_dir, fp_config[\"phenotype_tmp\"])\n",
    "\n",
    "        # paths to executable files\n",
    "        self.sbat_exec = config[\"exec\"][\"sbat\"]\n",
    "        self.plink_exec = config[\"exec\"][\"plink\"]\n",
    "            \n",
    "        gwas_run.generate_phenotype_file(phenotypes)\n",
    "       \n",
    "        # other parameters of the run\n",
    "        chromosomes = parseIntSet(str(config[\"chromosomes\"]))\n",
    "        self.chromosomes = [x for x in chromosomes if is_number(x)]\n",
    "        if \"X\" in chromosomes:\n",
    "            self.chromosomes.append(\"X\")\n",
    "        if \"Y\" in chromosomes:\n",
    "            self.chromosomes.append(\"Y\")\n",
    "    \n",
    "        # other options\n",
    "        self.delete_temp = config.get([\"delete_temp\"], True)\n",
    "        self.merge_chromosomes = config.get([\"merge_chromosomes\"], True)\n",
    "        self.overwrite_output = config.get([\"overwrite_output\"], False)\n",
    "        self.generate_tabix = config.get([\"generate_tabix\"], False)        \n",
    "        \n",
    "        \n",
    "    def __str__(self):\n",
    "        return(\"\\n\".join([\n",
    "            \"Genotype file pattern: %s\" % self.genotype_fp,\n",
    "            \"bim file pattern: %s\" % self.bim_fp,\n",
    "            \"fam file pattern: %s\" % self.fam_fp,\n",
    "            \"Phenotype file name: %s\" % self.pheno_f,\n",
    "            \"GWAS file name: %s\" % self.gwas_f\n",
    "        ]))\n",
    "    \n",
    "    \n",
    "    def generate_phenotype_file(self, phenotypes, tmp=True):\n",
    "        '''\n",
    "        Create a phenotype file with the format as required by plink\n",
    "        IID|FID|phenotype1|phenotype2|...\n",
    "        '''\n",
    "\n",
    "        df = pd.read_table(self.pheno_f)\n",
    "        df.rename(columns={\"Subject ID\": \"IID\"}, inplace=True)\n",
    "        df[\"FID\"] = df[\"IID\"] # duplicate ID column in FID column\n",
    "        # print(df.head())\n",
    "\n",
    "        cols = df.columns.to_list()\n",
    "        cols = [cols[-1]] + [cols[0]] + cols[1:-1]\n",
    "\n",
    "        # ID|FID|pheno1|pheno2|...\n",
    "        # os.path.isdir()\n",
    "        # filter\n",
    "        cols = [x for x in cols if x in ([\"IID\", \"FID\"] + phenotypes)]\n",
    "        not_found = {x for x in phenotypes if x not in cols}\n",
    "        df = df[cols]\n",
    "        # raise warning if `not_found` is not empty\n",
    "\n",
    "        df.to_csv(self.pheno_f_tmp, sep=\"\\t\", na_rep=\"NA\", index=False)\n",
    "        # print(df.head())\n",
    "\n",
    "        \n",
    "    def format_genotype_file(origin=\"bed\", destiny=\"bgen\"):\n",
    "        \n",
    "        '''\n",
    "        run shell commands in order to convert from the origin format to the destiny format (the one required by the GWAS tool, e.g. plink or BGENIE)\n",
    "        '''\n",
    "\n",
    "        pass\n",
    "        \n",
    "        # TODO: add log messages (redirect error output?)\n",
    "        if (origin, destiny) == (\"bed\", \"bgen\"):\n",
    "            output_f = genotype_f[:-3] + \"bgen\"\n",
    "            command = [plink, \"--pfile\", genotype_f, \"--export\", \"bgen-1.2\", \"--out\", output_f]\n",
    "        else:\n",
    "            return\n",
    "\n",
    "        call(command)\n",
    "\n",
    "        \n",
    "    def filter_individuals(ids=None, conditions=None, fields=None, tmp=True):\n",
    "        '''\n",
    "        filter by ids, or a set of conditions imposed on a field or fields (e.g. gender, ethnicity and/or age).\n",
    "        if tmp == True, the files generated herein will be erased in the end\n",
    "        '''\n",
    "        pass\n",
    "    \n",
    "    \n",
    "    def execute(self, chromosome, phenotype):\n",
    "        # TODO: add log messages (redirect error output?)\n",
    "        if self.covariates is not None:\n",
    "            command = [self.plink_exec,\n",
    "                       \"--bed\", self.genotype_fp.format(chromosome=chromosome),\n",
    "                       \"--bim\", self.bim_fp.format(chromosome=chromosome),\n",
    "                       \"--fam\", self.fam_fp.format(chromosome=chromosome),\n",
    "                       \"--assoc\",\n",
    "                       \"--pheno\", self.pheno_f_tmp,\n",
    "                       \"--pheno-name\", phenotype,\n",
    "                       \"--out\", self.gwas_f.format(phenotype=phenotype, suffix=\"__chr%s\" % chromosome)]\n",
    "        # return(\" \".join(command))\n",
    "        # command = [plink, \"--bed\", bed_file, \"--bim\", bim_file, \"--fam\", fam_file, \"--linear\", \"assoc\", \"--pheno\", phenotype_f, \"--pheno-name\", phenotype, \"--out\", gwas_f]\n",
    "        \n",
    "        call(command)\n",
    "        \n",
    "    def extract_metadata(fields):\n",
    "        command = [\"ukbconv\", \"\"]\n",
    "        pass\n",
    "\n",
    "    def adjust_phenotype(covariates):\n",
    "        pass\n",
    "\n",
    "    def manhattan_plot(gwas_results):\n",
    "        pass"
   ]
  },
  {
   "cell_type": "code",
   "execution_count": 1,
   "metadata": {},
   "outputs": [
    {
     "ename": "SyntaxError",
     "evalue": "unexpected EOF while parsing (<ipython-input-1-e0cbc0d78fdf>, line 9)",
     "output_type": "error",
     "traceback": [
      "\u001b[0;36m  File \u001b[0;32m\"<ipython-input-1-e0cbc0d78fdf>\"\u001b[0;36m, line \u001b[0;32m9\u001b[0m\n\u001b[0;31m    \u001b[0m\n\u001b[0m    ^\u001b[0m\n\u001b[0;31mSyntaxError\u001b[0m\u001b[0;31m:\u001b[0m unexpected EOF while parsing\n"
     ]
    }
   ],
   "source": [
    "def run(args):\n",
    "    \n",
    "    gwas_run = GWAS_Run(args.yaml_config_file)\n",
    "\n",
    "    for phenotype in phenotypes:\n",
    "\n",
    "        for chr in gwas_run.chromosomes:\n",
    "            gwas_run.execute(chr, phenotype)\n",
    "\n",
    "        if gwas_run.merge_chromosomes:\n",
    "            with open(gwas_run.gwas_f.format(phenotype=phenotype, suffix=\"\") as merged_fh:\n",
    "                partitioned_gwas_files = [gwas_run.gwas_fp.format(chromosome=chr) for chr in gwas_run.chromosomes]\n",
    "                for i, file_chr in enumerate(partitioned_gwas_files):\n",
    "                    with open(file_chr) as chr_fh:\n",
    "                        for j, line in enumerate(chr_fh):\n",
    "                            if (i == 0 and j == 0) or (j != 0):\n",
    "                                merged_fh.write(line)\n",
    "\n",
    "    if gwas_run.delete_temp:\n",
    "        os.rmdir(gwas_run.tmp_dir)"
   ]
  },
  {
   "cell_type": "code",
   "execution_count": null,
   "metadata": {},
   "outputs": [],
   "source": [
    "if __name__ == \"__main__\":\n",
    "\n",
    "    import argparse\n",
    "\n",
    "    parser = argparse.ArgumentParser(description=\"Harmonize data, run GWAS and generate descriptive plots.\")\n",
    "\n",
    "    parser.add_argument(\"--yaml_config_file\", default=\"config.yaml\")\n",
    "\n",
    "    args = parser.parse_args()\n",
    "    \n",
    "    run(args.yaml_config_file)"
   ]
  },
  {
   "cell_type": "code",
   "execution_count": 6,
   "metadata": {},
   "outputs": [
    {
     "ename": "FileNotFoundError",
     "evalue": "[Errno 2] No such file or directory: 'run_params/phenotypes.txt'",
     "output_type": "error",
     "traceback": [
      "\u001b[0;31m---------------------------------------------------------------------------\u001b[0m",
      "\u001b[0;31mFileNotFoundError\u001b[0m                         Traceback (most recent call last)",
      "\u001b[0;32m<ipython-input-6-8b1bbfe1aa45>\u001b[0m in \u001b[0;36m<module>\u001b[0;34m\u001b[0m\n\u001b[1;32m      1\u001b[0m \u001b[0;32mimport\u001b[0m \u001b[0mos\u001b[0m\u001b[0;34m\u001b[0m\u001b[0;34m\u001b[0m\u001b[0m\n\u001b[0;32m----> 2\u001b[0;31m \u001b[0mphenotypes\u001b[0m \u001b[0;34m=\u001b[0m \u001b[0;34m[\u001b[0m\u001b[0mx\u001b[0m\u001b[0;34m.\u001b[0m\u001b[0mstrip\u001b[0m\u001b[0;34m(\u001b[0m\u001b[0;34m)\u001b[0m \u001b[0;32mfor\u001b[0m \u001b[0mx\u001b[0m \u001b[0;32min\u001b[0m \u001b[0mopen\u001b[0m\u001b[0;34m(\u001b[0m\u001b[0;34m'run_params/phenotypes.txt'\u001b[0m\u001b[0;34m)\u001b[0m\u001b[0;34m]\u001b[0m\u001b[0;34m\u001b[0m\u001b[0;34m\u001b[0m\u001b[0m\n\u001b[0m\u001b[1;32m      3\u001b[0m \u001b[0mprint\u001b[0m\u001b[0;34m(\u001b[0m\u001b[0mphenotypes\u001b[0m\u001b[0;34m)\u001b[0m\u001b[0;34m\u001b[0m\u001b[0;34m\u001b[0m\u001b[0m\n",
      "\u001b[0;31mFileNotFoundError\u001b[0m: [Errno 2] No such file or directory: 'run_params/phenotypes.txt'"
     ]
    }
   ],
   "source": [
    "import os \n",
    "phenotypes = [x.strip() for x in open('run_params/phenotypes.txt')]\n",
    "print(phenotypes)"
   ]
  },
  {
   "cell_type": "code",
   "execution_count": 3,
   "metadata": {},
   "outputs": [
    {
     "data": {
      "text/plain": [
       "'/home/rodrigo/Leeds/doctorado/repos/GWAS_pipeline/code'"
      ]
     },
     "execution_count": 3,
     "metadata": {},
     "output_type": "execute_result"
    }
   ],
   "source": [
    "os.getcwd()"
   ]
  },
  {
   "cell_type": "code",
   "execution_count": 15,
   "metadata": {},
   "outputs": [
    {
     "data": {
      "text/plain": [
       "{'chromosomes': '1-22',\n",
       " 'phenotypes_list': 'a',\n",
       " 'individuals': 'only_FID_IID.txt',\n",
       " 'filename_patterns': ['genotype_patterns.yaml', 'filename_patterns.yaml'],\n",
       " 'gwas': '../output/gwas/{phenotype}/gwas__{phenotype}{{suffix}}.plink.assoc',\n",
       " 'suffix': '{}{}{}',\n",
       " 'exec': {'plink': 'plink'}}"
      ]
     },
     "execution_count": 15,
     "metadata": {},
     "output_type": "execute_result"
    }
   ],
   "source": [
    "yaml.safe_load(open(\"yaml_files/config_test.yaml\"))"
   ]
  },
  {
   "cell_type": "code",
   "execution_count": 29,
   "metadata": {},
   "outputs": [],
   "source": [
    "os.chdir(\"/home/rodrigo/Leeds/doctorado/repos/GWAS_pipeline/code/\")\n",
    "yaml_file = \"yaml_files/config_test.yaml\""
   ]
  },
  {
   "cell_type": "code",
   "execution_count": 8,
   "metadata": {},
   "outputs": [],
   "source": [
    "def unfold_config(yaml_file):\n",
    "    '''\n",
    "    This function reads a yaml configuration file\n",
    "    If some the fields are paths to other yaml files,\n",
    "    it will load their contents as values of the corresponding keys\n",
    "    '''\n",
    "    \n",
    "    def is_yaml_file(x):\n",
    "        if isinstance(x, str):\n",
    "            return x.endswith(\"yaml\") or x.endswith(\"yml\")\n",
    "        return False\n",
    "    \n",
    "    config_dir = os.path.dirname(yaml_file)\n",
    "    config = yaml.safe_load(open(yaml_file))\n",
    "    for key in config:\n",
    "        #TODO: \n",
    "        if isinstance(config[key], list) and all([is_yaml_file(x) for x in config[key]]) or is_yaml_file(config[key]):\n",
    "            dd = {}\n",
    "            file_names = [x if os.path.exists(x) else os.path.join(config_dir, x) for x in config[key]]\n",
    "            print(file_names)\n",
    "            for file_name in file_names:\n",
    "                dd = {**dd, **yaml.safe_load(open(file_name))}\n",
    "            config[key] = dd\n",
    "    return config\n",
    "                "
   ]
  },
  {
   "cell_type": "code",
   "execution_count": 51,
   "metadata": {},
   "outputs": [],
   "source": [
    "def is_yaml_file(x):\n",
    "    if isinstance(x, str):\n",
    "        return x.endswith(\"yaml\") or x.endswith(\"yml\")\n",
    "    return False\n",
    "    \n",
    "def unfold_config(token):\n",
    "    '''\n",
    "    This function reads a yaml configuration file\n",
    "    If some the fields are paths to other yaml files,\n",
    "    it will load their contents as values of the corresponding keys\n",
    "    '''           \n",
    "    if is_yaml_file(token):\n",
    "        token = yaml.safe_load(open(token))\n",
    "    if isinstance(token, dict):\n",
    "        for k, v in token.items():\n",
    "            # print(\"{0}: {1}\".format(k, v))\n",
    "            token[k] = unfold_config(v)\n",
    "    return token"
   ]
  },
  {
   "cell_type": "code",
   "execution_count": 52,
   "metadata": {},
   "outputs": [
    {
     "data": {
      "text/plain": [
       "{'chromosomes': '1-22',\n",
       " 'phenotypes_list': 'a',\n",
       " 'individuals': 'only_FID_IID.txt',\n",
       " 'filename_patterns': {'genotype': {'bed': '../data/calls/ukb_cal_chr{chromosome}_v2.bed',\n",
       "   'bim': '../data/calls/ukb_snp_chr{chromosome}_v2.bim',\n",
       "   'fam': '../data/calls/ukb11350_cal_chr{chromosome}_v2_s488282.fam'},\n",
       "  'phenotype': {'phenotype_file': '../data/Cardiac_Function_Indexes_11350.tsv',\n",
       "   'phenotype_file_tmp': '../data/tmp/Cardiac_Function_Indexes_11350_tmp.tsv',\n",
       "   'covariates': ''},\n",
       "  'gwas_fp': '../output/gwas/{phenotype}/gwas__{phenotype}{{suffix}}.plink.assoc'},\n",
       " 'suffix': '{covariate_adjustment}__{inverse_normalization}__{segmentation_method}__{ethnicity}',\n",
       " 'suffix_tokens': {'covariate_adjustment': {False: None, True: 'Adj'},\n",
       "  'inverse_normalization': {False: None, True: 'InvNorm'},\n",
       "  'segmentation_method': {'manual': 'Manual',\n",
       "   'automatic': 'Auto',\n",
       "   'manual_plus_automatic': 'Man_And_Auto'},\n",
       "  'ethnicity': {'white': 'EUR', 'british': 'GBR', 'all': 'All_Ethnicities'}},\n",
       " 'exec': {'plink': 'plink'}}"
      ]
     },
     "execution_count": 52,
     "metadata": {},
     "output_type": "execute_result"
    }
   ],
   "source": [
    "unfold_config(yaml_file)"
   ]
  }
 ],
 "metadata": {
  "kernelspec": {
   "display_name": "Python 3",
   "language": "python",
   "name": "python3"
  },
  "language_info": {
   "codemirror_mode": {
    "name": "ipython",
    "version": 3
   },
   "file_extension": ".py",
   "mimetype": "text/x-python",
   "name": "python",
   "nbconvert_exporter": "python",
   "pygments_lexer": "ipython3",
   "version": "3.6.9"
  }
 },
 "nbformat": 4,
 "nbformat_minor": 2
}
