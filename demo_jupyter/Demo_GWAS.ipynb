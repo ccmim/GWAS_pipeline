{
 "cells": [
  {
   "cell_type": "markdown",
   "metadata": {},
   "source": [
    "# GWAS workflow\n",
    "This notebook contains a typical workflow for running a GWAS.\n",
    "In this case, we study a set of cardiac morphological and functional parameters of the heart ventricles extracted from shape models derived from cardiovascular magnetic resonance (CMR)."
   ]
  },
  {
   "cell_type": "code",
   "execution_count": 1,
   "metadata": {},
   "outputs": [],
   "source": [
    "# Import modules\n",
    "import ipywidgets as widgets\n",
    "import os\n",
    "import pandas as pd\n",
    "import rpy2\n",
    "\n",
    "## Import my modules\n",
    "import GWAS_pipeline.code.run_gwas as gwas "
   ]
  },
  {
   "cell_type": "markdown",
   "metadata": {},
   "source": [
    "## Preprocess data (not yet implemented here, this is done separately)\n"
   ]
  },
  {
   "cell_type": "markdown",
   "metadata": {},
   "source": [
    "### Filter by ethnicity (or control for population stratification)\n",
    "Taking care of population stratification is essential to avoid fake associations in the GWAS.\n",
    "In this case we filter for the major ethnic group in UK Biobank (British)."
   ]
  },
  {
   "cell_type": "markdown",
   "metadata": {},
   "source": [
    "### Adjust for covariates\n",
    "The studied phenotypes were found to be strongly associated with variables such as gender, height, BMI, age and blood pressure.\n",
    "In order to standardize the phenotypes, they are adjusted for all of these covariates."
   ]
  },
  {
   "cell_type": "markdown",
   "metadata": {},
   "source": [
    "### Inverse-normalization\n",
    "This a usual procedure where the phenotype values are mapped to new values following a standard normal distribution. This step is necessary if the usual hypothesis test for GWAS is applied.\n"
   ]
  },
  {
   "cell_type": "markdown",
   "metadata": {},
   "source": [
    "## Run GWAS with Plink"
   ]
  },
  {
   "cell_type": "markdown",
   "metadata": {},
   "source": [
    "### Select configuration file"
   ]
  },
  {
   "cell_type": "code",
   "execution_count": 2,
   "metadata": {},
   "outputs": [
    {
     "data": {
      "application/vnd.jupyter.widget-view+json": {
       "model_id": "e862ebe045ea40f2bfe65a25f71b431c",
       "version_major": 2,
       "version_minor": 0
      },
      "text/plain": [
       "Dropdown(description='Yaml File', index=1, options=('config_local.yaml', 'config_multix_LV.yaml', 'config_mult…"
      ]
     },
     "metadata": {},
     "output_type": "display_data"
    }
   ],
   "source": [
    "w_yaml = widgets.Dropdown(\n",
    "    options=[x for x in os.listdir(\"GWAS_pipeline/code/yaml_files/\") if x.endswith(\".yaml\") and x.startswith(\"config\")],\n",
    "    description='Yaml File',\n",
    "    disabled=False,\n",
    "    value='config_multix_LV.yaml'\n",
    ")\n",
    "\n",
    "display(w_yaml)"
   ]
  },
  {
   "cell_type": "code",
   "execution_count": 3,
   "metadata": {},
   "outputs": [],
   "source": [
    "yaml_config_file = \"GWAS_pipeline/code/yaml_files/\" + w_yaml.value\n",
    "gwas_run = gwas.GWAS_Run(yaml_config_file)"
   ]
  },
  {
   "cell_type": "markdown",
   "metadata": {},
   "source": [
    "### Print configuration file"
   ]
  },
  {
   "cell_type": "code",
   "execution_count": 4,
   "metadata": {
    "scrolled": true
   },
   "outputs": [
    {
     "name": "stdout",
     "output_type": "stream",
     "text": [
      "{\n",
      "    \"chromosomes\": 22,\n",
      "    \"data_dir\": \"/MULTIX/DATA/INPUT\",\n",
      "    \"exec\": {\n",
      "        \"plink\": \"plink\"\n",
      "    },\n",
      "    \"filename_patterns\": {\n",
      "        \"genotype\": {\n",
      "            \"bed\": \"{data_dir}/calls_filtered_31802/ukb_cal_chr{{chromosome}}_v2_31802_indiv.bed\",\n",
      "            \"bim\": \"{data_dir}/calls_filtered_31802/ukb_cal_chr{{chromosome}}_v2_31802_indiv.bim\",\n",
      "            \"fam\": \"{data_dir}/calls_filtered_31802/ukb_cal_chr{{chromosome}}_v2_31802_indiv.fam\"\n",
      "        },\n",
      "        \"gwas\": \"gwas/{phenotype}/gwas__{phenotype}{suffix}\",\n",
      "        \"phenotype\": {\n",
      "            \"covariates\": \"\",\n",
      "            \"phenotype_file\": \"Cardiac_InvNorm_Indexes_Adj_11350.tsv\",\n",
      "            \"phenotype_file_tmp\": \"tmp/Cardiac_InvNorm_Indexes_Adj_11350_tmp.tsv\"\n",
      "        }\n",
      "    },\n",
      "    \"individuals\": \"{data_dir}/ids_list/cmr_british_ids.txt\",\n",
      "    \"options\": {\n",
      "        \"covariate_adjustment\": true,\n",
      "        \"ethnicity\": \"white\",\n",
      "        \"inverse_normalization\": true,\n",
      "        \"segmentation_method\": \"automatic\"\n",
      "    },\n",
      "    \"output_dir\": \"/MULTIX/DATA/OUTPUT\",\n",
      "    \"phenotype_list\": \"phenotypes_LV.txt\",\n",
      "    \"suffix\": \"__{covariate_adjustment}__{inverse_normalization}__{segmentation_method}__{ethnicity}\",\n",
      "    \"suffix_tokens\": {\n",
      "        \"covariate_adjustment\": {\n",
      "            \"false\": null,\n",
      "            \"true\": \"Adj\"\n",
      "        },\n",
      "        \"ethnicity\": {\n",
      "            \"all\": \"All_Ethnicities\",\n",
      "            \"british\": \"GBR\",\n",
      "            \"white\": \"EUR\"\n",
      "        },\n",
      "        \"inverse_normalization\": {\n",
      "            \"false\": null,\n",
      "            \"true\": \"InvNorm\"\n",
      "        },\n",
      "        \"segmentation_method\": {\n",
      "            \"automatic\": \"Auto\",\n",
      "            \"manual\": \"Manual\",\n",
      "            \"manual_plus_automatic\": \"Man_And_Auto\"\n",
      "        }\n",
      "    }\n",
      "}\n"
     ]
    }
   ],
   "source": [
    "from json import dumps; print(dumps(gwas_run.config, indent=4, sort_keys=True))\n",
    "\n",
    "# Clean output directory before GWAS run\n",
    "if os.path.exists(\"/MULTIX/DATA/OUTPUT/gwas\"):\n",
    "    os.system(\"rm -Rf /MULTIX/DATA/OUTPUT/gwas\")"
   ]
  },
  {
   "cell_type": "markdown",
   "metadata": {},
   "source": [
    "### Select phenotypes and chromosomes"
   ]
  },
  {
   "cell_type": "code",
   "execution_count": 5,
   "metadata": {},
   "outputs": [
    {
     "data": {
      "application/vnd.jupyter.widget-view+json": {
       "model_id": "8fdf548755614ed28ac43f9884c30055",
       "version_major": 2,
       "version_minor": 0
      },
      "text/plain": [
       "SelectMultiple(description='Phenotypes:', index=(0, 1, 2, 3, 4), options=('LVEDV_automatic', 'LVESV_automatic'…"
      ]
     },
     "metadata": {},
     "output_type": "display_data"
    },
    {
     "data": {
      "application/vnd.jupyter.widget-view+json": {
       "model_id": "305cd1f4ff9743df883a7c995aed1d66",
       "version_major": 2,
       "version_minor": 0
      },
      "text/plain": [
       "SelectMultiple(description='Chromosomes', index=(0,), options=('all', 1, 2, 3, 4, 5, 6, 7, 8, 9, 10, 11, 12, 1…"
      ]
     },
     "metadata": {},
     "output_type": "display_data"
    }
   ],
   "source": [
    "w_phenos = widgets.SelectMultiple(\n",
    "    options=gwas_run.phenotypes_all,\n",
    "    value=gwas_run.phenotypes_all,\n",
    "    description='Phenotypes:',\n",
    "    disabled=False\n",
    ")\n",
    "display(w_phenos)\n",
    "\n",
    "w_chr = widgets.SelectMultiple(\n",
    "    options=[\"all\"] + [i for i in range(1,23)],\n",
    "    value=['all'],\n",
    "    description='Chromosomes',\n",
    "    disabled=False\n",
    ")\n",
    "\n",
    "display(w_chr)\n"
   ]
  },
  {
   "cell_type": "code",
   "execution_count": 6,
   "metadata": {},
   "outputs": [],
   "source": [
    "gwas_run.chromosomes = w_chr.value if 'all' not in w_chr.value else [i for i in range(1,23)]"
   ]
  },
  {
   "cell_type": "code",
   "execution_count": 7,
   "metadata": {},
   "outputs": [
    {
     "name": "stdout",
     "output_type": "stream",
     "text": [
      "[1, 2, 3, 4, 5, 6, 7, 8, 9, 10, 11, 12, 13, 14, 15, 16, 17, 18, 19, 20, 21, 22]\n",
      "('LVEDV_automatic', 'LVESV_automatic', 'LVSV_automatic', 'LVEF_automatic', 'LVM_automatic')\n"
     ]
    }
   ],
   "source": [
    "gwas_run.chromosomes = w_chr.value if 'all' not in w_chr.value else [i for i in range(1,23)]\n",
    "gwas_run.phenotypes = w_phenos.value\n",
    "print(gwas_run.chromosomes)\n",
    "print(gwas_run.phenotypes)"
   ]
  },
  {
   "cell_type": "code",
   "execution_count": 8,
   "metadata": {},
   "outputs": [
    {
     "name": "stdout",
     "output_type": "stream",
     "text": [
      "Processing LVEDV_automatic...\n",
      "  Processing chromosome 1...\n",
      "  Processing chromosome 2...\n",
      "  Processing chromosome 3...\n",
      "  Processing chromosome 4...\n",
      "  Processing chromosome 5...\n",
      "  Processing chromosome 6...\n",
      "  Processing chromosome 7...\n",
      "  Processing chromosome 8...\n",
      "  Processing chromosome 9...\n",
      "  Processing chromosome 10...\n",
      "  Processing chromosome 11...\n",
      "  Processing chromosome 12...\n",
      "  Processing chromosome 13...\n",
      "  Processing chromosome 14...\n",
      "  Processing chromosome 15...\n",
      "  Processing chromosome 16...\n",
      "  Processing chromosome 17...\n",
      "  Processing chromosome 18...\n",
      "  Processing chromosome 19...\n",
      "  Processing chromosome 20...\n",
      "  Processing chromosome 21...\n",
      "  Processing chromosome 22...\n",
      "Processing LVESV_automatic...\n",
      "  Processing chromosome 1...\n",
      "  Processing chromosome 2...\n",
      "  Processing chromosome 3...\n",
      "  Processing chromosome 4...\n",
      "  Processing chromosome 5...\n",
      "  Processing chromosome 6...\n",
      "  Processing chromosome 7...\n",
      "  Processing chromosome 8...\n",
      "  Processing chromosome 9...\n",
      "  Processing chromosome 10...\n",
      "  Processing chromosome 11...\n",
      "  Processing chromosome 12...\n",
      "  Processing chromosome 13...\n",
      "  Processing chromosome 14...\n",
      "  Processing chromosome 15...\n",
      "  Processing chromosome 16...\n",
      "  Processing chromosome 17...\n",
      "  Processing chromosome 18...\n",
      "  Processing chromosome 19...\n",
      "  Processing chromosome 20...\n",
      "  Processing chromosome 21...\n",
      "  Processing chromosome 22...\n",
      "Processing LVSV_automatic...\n",
      "  Processing chromosome 1...\n",
      "  Processing chromosome 2...\n",
      "  Processing chromosome 3...\n",
      "  Processing chromosome 4...\n",
      "  Processing chromosome 5...\n",
      "  Processing chromosome 6...\n",
      "  Processing chromosome 7...\n",
      "  Processing chromosome 8...\n",
      "  Processing chromosome 9...\n",
      "  Processing chromosome 10...\n",
      "  Processing chromosome 11...\n",
      "  Processing chromosome 12...\n",
      "  Processing chromosome 13...\n",
      "  Processing chromosome 14...\n",
      "  Processing chromosome 15...\n",
      "  Processing chromosome 16...\n",
      "  Processing chromosome 17...\n",
      "  Processing chromosome 18...\n",
      "  Processing chromosome 19...\n",
      "  Processing chromosome 20...\n",
      "  Processing chromosome 21...\n",
      "  Processing chromosome 22...\n",
      "Processing LVEF_automatic...\n",
      "  Processing chromosome 1...\n",
      "  Processing chromosome 2...\n",
      "  Processing chromosome 3...\n",
      "  Processing chromosome 4...\n",
      "  Processing chromosome 5...\n",
      "  Processing chromosome 6...\n",
      "  Processing chromosome 7...\n",
      "  Processing chromosome 8...\n",
      "  Processing chromosome 9...\n",
      "  Processing chromosome 10...\n",
      "  Processing chromosome 11...\n",
      "  Processing chromosome 12...\n",
      "  Processing chromosome 13...\n",
      "  Processing chromosome 14...\n",
      "  Processing chromosome 15...\n",
      "  Processing chromosome 16...\n",
      "  Processing chromosome 17...\n",
      "  Processing chromosome 18...\n",
      "  Processing chromosome 19...\n",
      "  Processing chromosome 20...\n",
      "  Processing chromosome 21...\n",
      "  Processing chromosome 22...\n",
      "Processing LVM_automatic...\n",
      "  Processing chromosome 1...\n",
      "  Processing chromosome 2...\n",
      "  Processing chromosome 3...\n",
      "  Processing chromosome 4...\n",
      "  Processing chromosome 5...\n",
      "  Processing chromosome 6...\n",
      "  Processing chromosome 7...\n",
      "  Processing chromosome 8...\n",
      "  Processing chromosome 9...\n",
      "  Processing chromosome 10...\n",
      "  Processing chromosome 11...\n",
      "  Processing chromosome 12...\n",
      "  Processing chromosome 13...\n",
      "  Processing chromosome 14...\n",
      "  Processing chromosome 15...\n",
      "  Processing chromosome 16...\n",
      "  Processing chromosome 17...\n",
      "  Processing chromosome 18...\n",
      "  Processing chromosome 19...\n",
      "  Processing chromosome 20...\n",
      "  Processing chromosome 21...\n",
      "  Processing chromosome 22...\n"
     ]
    }
   ],
   "source": [
    "gwas_run.run()"
   ]
  },
  {
   "cell_type": "markdown",
   "metadata": {},
   "source": [
    "## Generate Manhattan plots"
   ]
  },
  {
   "cell_type": "markdown",
   "metadata": {},
   "source": [
    "For this, we use the R qqman package. In order to run R code within this Python notebook, I load the rpy2 module.\n",
    "Then I can run R commands by writing %R in front of the command"
   ]
  },
  {
   "cell_type": "code",
   "execution_count": 9,
   "metadata": {},
   "outputs": [
    {
     "data": {
      "text/plain": [
       "array([1], dtype=int32)"
      ]
     },
     "execution_count": 9,
     "metadata": {},
     "output_type": "execute_result"
    }
   ],
   "source": [
    "# To plot in R\n",
    "%load_ext rpy2.ipython\n",
    "%R suppressMessages(require(qqman))\n",
    "%R suppressMessages(require(tidyverse))"
   ]
  },
  {
   "cell_type": "markdown",
   "metadata": {},
   "source": [
    "### Control panel"
   ]
  },
  {
   "cell_type": "code",
   "execution_count": 10,
   "metadata": {
    "scrolled": true
   },
   "outputs": [
    {
     "data": {
      "application/vnd.jupyter.widget-view+json": {
       "model_id": "5ec3eddacd7341db8e3bf7ff373f585b",
       "version_major": 2,
       "version_minor": 0
      },
      "text/plain": [
       "Dropdown(description='Phenotype', options=('LVEDV_automatic', 'LVESV_automatic', 'LVSV_automatic', 'LVEF_autom…"
      ]
     },
     "metadata": {},
     "output_type": "display_data"
    },
    {
     "data": {
      "application/vnd.jupyter.widget-view+json": {
       "model_id": "32e9975bb6304714bf499be588ed6c1c",
       "version_major": 2,
       "version_minor": 0
      },
      "text/plain": [
       "Dropdown(description='chromosomes:', options=('all', 1, 2, 3, 4, 5, 6, 7, 8, 9, 10, 11, 12, 13, 14, 15, 16, 17…"
      ]
     },
     "metadata": {},
     "output_type": "display_data"
    }
   ],
   "source": [
    "w_pheno = widgets.Dropdown(\n",
    "    options=gwas_run.phenotypes,\n",
    "    description='Phenotype',\n",
    "    disabled=False,\n",
    ")\n",
    "\n",
    "display(w_pheno)\n",
    "\n",
    "w_chr = widgets.Dropdown(\n",
    "    options=['all'] + list(gwas_run.chromosomes),\n",
    "    value='all',\n",
    "    rows=10,\n",
    "    description='chromosomes:',\n",
    ")\n",
    "\n",
    "display(w_chr)"
   ]
  },
  {
   "cell_type": "markdown",
   "metadata": {},
   "source": [
    "### Plot"
   ]
  },
  {
   "cell_type": "code",
   "execution_count": 11,
   "metadata": {
    "scrolled": false
   },
   "outputs": [
    {
     "data": {
      "application/vnd.jupyter.widget-view+json": {
       "model_id": "1e2e2689db8b4c7c9324d8cf4802459d",
       "version_major": 2,
       "version_minor": 0
      },
      "text/plain": [
       "Image(value=b'\\x89PNG\\r\\n\\x1a\\n\\x00\\x00\\x00\\rIHDR\\x00\\x00\\x03 \\x00\\x00\\x01\\x90\\x08\\x02\\x00\\x00\\x00\\xd9G\\x93c\\x…"
      ]
     },
     "metadata": {},
     "output_type": "display_data"
    }
   ],
   "source": [
    "gwas_filename = gwas_run.gwas_fp.format(phenotype=w_pheno.value, suffix=gwas_run.output_suffix)\n",
    "img_filename = gwas_run.gwas_fp.format(phenotype=w_pheno.value, suffix=gwas_run.output_suffix) + \".png\"\n",
    "\n",
    "chromosome = int(w_chr.value) if w_chr.value != \"all\" else \"all\"\n",
    "chromosome = w_chr.value\n",
    "\n",
    "%R -i img_filename\n",
    "%R -i gwas_filename\n",
    "\n",
    "if chromosome == \"all\":\n",
    "  if not os.path.exists(img_filename):\n",
    "    %R gwas_df <- suppressMessages(read_delim(gwas_filename, delim=\"\\t\")  )\n",
    "    %R png(img_filename, width=800, height=400); manhattan(gwas_df %>% filter(!is.na(P))); dev.off()\n",
    "  image = open(img_filename, \"rb\").read()\n",
    "  w_img = widgets.Image(\n",
    "    value=image,\n",
    "    format='png',\n",
    "    width=800,\n",
    "    height=400,\n",
    "  )\n",
    "  display(w_img)\n",
    "\n",
    "else:\n",
    "    %R gwas_df <-  suppressMessages(read_delim(gwas_filename, delim=\"\\t\"))\n",
    "    %R -i chromosome    \n",
    "    %R manhattan(gwas_df %>% filter(!is.na(P) & CHR == chromosome), main= glue::glue(\"{chromosome}\")\n",
    "    "
   ]
  },
  {
   "cell_type": "code",
   "execution_count": null,
   "metadata": {},
   "outputs": [],
   "source": []
  }
 ],
 "metadata": {
  "kernelspec": {
   "display_name": "Python 3",
   "language": "python",
   "name": "python3"
  },
  "language_info": {
   "codemirror_mode": {
    "name": "ipython",
    "version": 3
   },
   "file_extension": ".py",
   "mimetype": "text/x-python",
   "name": "python",
   "nbconvert_exporter": "python",
   "pygments_lexer": "ipython3",
   "version": "3.7.4"
  }
 },
 "nbformat": 4,
 "nbformat_minor": 2
}
