{
 "cells": [
  {
   "cell_type": "markdown",
   "metadata": {},
   "source": [
    "# GWAS workflow\n",
    "This notebook contains a typical workflow for running a GWAS.\n",
    "In this case, we study a set of cardiac morphological and functional parameters of the heart ventricles extracted from shape models derived from cardiovascular magnetic resonance (CMR)."
   ]
  },
  {
   "cell_type": "code",
   "execution_count": 1,
   "metadata": {},
   "outputs": [],
   "source": [
    "# Import standard modules\n",
    "import ipywidgets as widgets\n",
    "import os\n",
    "import pandas as pd\n",
    "\n",
    "# Import my modules\n",
    "import GWAS_pipeline.code.run_gwas as gwas"
   ]
  },
  {
   "cell_type": "code",
   "execution_count": 2,
   "metadata": {},
   "outputs": [],
   "source": [
    "# Filter individuals according to input with a widget.\n",
    "# Adjust for a set of covariates selected with a widget\n",
    "# Use pybiomart\n",
    "# Use some gene ontology?"
   ]
  },
  {
   "cell_type": "markdown",
   "metadata": {},
   "source": [
    "## Preprocess data (not yet implemented, this is done separately)\n"
   ]
  },
  {
   "cell_type": "code",
   "execution_count": 3,
   "metadata": {},
   "outputs": [],
   "source": [
    "# Widget \"adjusted by covariates\"\n",
    "## if yes, which covariates\n",
    "\n",
    "# Widget \"Gender\": all, male, female\n",
    "\n",
    "# Widget \"Ethnicity\"\n",
    "\n",
    "# Widget \"InvNorm\"\n",
    "\n",
    "# Select number of individuals?"
   ]
  },
  {
   "cell_type": "markdown",
   "metadata": {},
   "source": [
    "### Filter by ethnicity (or control for population stratification)\n",
    "Taking care of population stratification is essential to avoid fake associations in the GWAS.\n",
    "In this case we filter for the major ethnic group in UK Biobank (British)."
   ]
  },
  {
   "cell_type": "markdown",
   "metadata": {},
   "source": [
    "### Inverse-normalization\n",
    "This a usual procedure where the phenotype values are mapped to new values following a standard normal distribution. This step is necessary if the usual hypothesis test for GWAS is applied.\n"
   ]
  },
  {
   "cell_type": "markdown",
   "metadata": {},
   "source": [
    "## Run GWAS with Plink"
   ]
  },
  {
   "cell_type": "code",
   "execution_count": 4,
   "metadata": {},
   "outputs": [],
   "source": [
    "# Add widgets that control the GWAS run"
   ]
  },
  {
   "cell_type": "code",
   "execution_count": 5,
   "metadata": {},
   "outputs": [],
   "source": [
    "# Validator for YAML file\n",
    "yaml_config_file = \"GWAS_pipeline/code/yaml_files/config_test.yaml\"\n",
    "gwas_run = gwas.GWAS_Run(yaml_config_file)"
   ]
  },
  {
   "cell_type": "markdown",
   "metadata": {},
   "source": [
    "### Print configuration file"
   ]
  },
  {
   "cell_type": "code",
   "execution_count": 6,
   "metadata": {},
   "outputs": [
    {
     "name": "stdout",
     "output_type": "stream",
     "text": [
      "{\n",
      "    \"chromosomes\": \"20-22\",\n",
      "    \"data_dir\": \"/home/rodrigo/Leeds/doctorado/repos/GWAS_pipeline/data\",\n",
      "    \"exec\": {\n",
      "        \"plink\": \"plink\"\n",
      "    },\n",
      "    \"filename_patterns\": {\n",
      "        \"genotype\": {\n",
      "            \"bed\": \"{data_dir}/calls_filtered_31802/ukb_cal_chr{{chromosome}}_v2_31802_indiv.bed\",\n",
      "            \"bim\": \"{data_dir}/calls_filtered_31802/ukb_cal_chr{{chromosome}}_v2_31802_indiv.bim\",\n",
      "            \"fam\": \"{data_dir}/calls_filtered_31802/ukb_cal_chr{{chromosome}}_v2_31802_indiv.fam\"\n",
      "        },\n",
      "        \"gwas\": \"gwas/{phenotype}/gwas__{phenotype}{suffix}\",\n",
      "        \"phenotype\": {\n",
      "            \"covariates\": \"\",\n",
      "            \"phenotype_file\": \"Cardiac_Function_Indexes_11350.tsv\",\n",
      "            \"phenotype_file_tmp\": \"tmp/Cardiac_Function_Indexes_11350_tmp.tsv\"\n",
      "        }\n",
      "    },\n",
      "    \"individuals\": \"{data_dir}/ids_list/cmr_british_ids.txt\",\n",
      "    \"options\": {\n",
      "        \"covariate_adjustment\": true,\n",
      "        \"ethnicity\": \"white\",\n",
      "        \"inverse_normalization\": true,\n",
      "        \"segmentation_method\": \"automatic\"\n",
      "    },\n",
      "    \"output_dir\": \"/home/rodrigo/Leeds/doctorado/repos/GWAS_pipeline/output\",\n",
      "    \"phenotype_list\": \"phenotypes.txt\",\n",
      "    \"suffix\": \"{covariate_adjustment}__{inverse_normalization}__{segmentation_method}__{ethnicity}\",\n",
      "    \"suffix_tokens\": {\n",
      "        \"covariate_adjustment\": {\n",
      "            \"false\": null,\n",
      "            \"true\": \"Adj\"\n",
      "        },\n",
      "        \"ethnicity\": {\n",
      "            \"all\": \"All_Ethnicities\",\n",
      "            \"british\": \"GBR\",\n",
      "            \"white\": \"EUR\"\n",
      "        },\n",
      "        \"inverse_normalization\": {\n",
      "            \"false\": null,\n",
      "            \"true\": \"InvNorm\"\n",
      "        },\n",
      "        \"segmentation_method\": {\n",
      "            \"automatic\": \"Auto\",\n",
      "            \"manual\": \"Manual\",\n",
      "            \"manual_plus_automatic\": \"Man_And_Auto\"\n",
      "        }\n",
      "    }\n",
      "}\n"
     ]
    }
   ],
   "source": [
    "from json import dumps; print(dumps(gwas_run.config, indent=4, sort_keys=True))"
   ]
  },
  {
   "cell_type": "code",
   "execution_count": 7,
   "metadata": {},
   "outputs": [
    {
     "name": "stdout",
     "output_type": "stream",
     "text": [
      "Processing LVEDV_manual...\n",
      "Output file already exists, if a new run is desired please delete the previous file.\n"
     ]
    }
   ],
   "source": [
    "gwas_run.run()"
   ]
  },
  {
   "cell_type": "markdown",
   "metadata": {},
   "source": [
    "## Generate Manhattan plots"
   ]
  },
  {
   "cell_type": "markdown",
   "metadata": {},
   "source": [
    "In order to run R code within this Python notebook, I load the rpy2 module.\n",
    "Then I can run R commands by writing %R in front of the command"
   ]
  },
  {
   "cell_type": "code",
   "execution_count": 8,
   "metadata": {},
   "outputs": [
    {
     "data": {
      "text/plain": [
       "array([1], dtype=int32)"
      ]
     },
     "execution_count": 8,
     "metadata": {},
     "output_type": "execute_result"
    }
   ],
   "source": [
    "# To plot in R\n",
    "%load_ext rpy2.ipython\n",
    "%R suppressMessages(require(qqman))\n",
    "%R suppressMessages(require(tidyverse))"
   ]
  },
  {
   "cell_type": "markdown",
   "metadata": {},
   "source": [
    "### Control panel"
   ]
  },
  {
   "cell_type": "code",
   "execution_count": 9,
   "metadata": {
    "scrolled": true
   },
   "outputs": [
    {
     "data": {
      "application/vnd.jupyter.widget-view+json": {
       "model_id": "c426342f8fa44a51b323f53e1cf3f9bc",
       "version_major": 2,
       "version_minor": 0
      },
      "text/plain": [
       "Dropdown(description='Phenotype', options=('LVEDV_manual', 'LVEDV_automatic', 'LVESV_manual', 'LVESV_automatic…"
      ]
     },
     "metadata": {},
     "output_type": "display_data"
    },
    {
     "data": {
      "application/vnd.jupyter.widget-view+json": {
       "model_id": "b4095cc3a34e4979ba5d0352cdd65fd6",
       "version_major": 2,
       "version_minor": 0
      },
      "text/plain": [
       "Dropdown(description='chromosome:', options=('all', 1, 2, 3, 4, 5, 6, 7, 8, 9, 10, 11, 12, 13, 14, 15, 16, 17,…"
      ]
     },
     "metadata": {},
     "output_type": "display_data"
    }
   ],
   "source": [
    "w_pheno = widgets.Dropdown(\n",
    "    options=gwas_run.phenotypes,\n",
    "    # value='pineapple', # Defaults to 'pineapple'\n",
    "    # layout={'width': 'max-content'}, # If the items' names are long\n",
    "    description='Phenotype',\n",
    "    disabled=False,\n",
    ")\n",
    "\n",
    "display(w_pheno)\n",
    "\n",
    "w_chr = widgets.Dropdown(\n",
    "    options=[\"all\"] + [i for i in range(1,23)] + [\"X\", \"Y\"],\n",
    "    value='all', # rows=10,\n",
    "    description='chromosome:',\n",
    ")\n",
    "\n",
    "display(w_chr)"
   ]
  },
  {
   "cell_type": "markdown",
   "metadata": {},
   "source": [
    "### Plot"
   ]
  },
  {
   "cell_type": "code",
   "execution_count": 10,
   "metadata": {
    "scrolled": false
   },
   "outputs": [
    {
     "data": {
      "application/vnd.jupyter.widget-view+json": {
       "model_id": "2ab763b50dd74771897909ad0375f26f",
       "version_major": 2,
       "version_minor": 0
      },
      "text/plain": [
       "Image(value=b'\\x89PNG\\r\\n\\x1a\\n\\x00\\x00\\x00\\rIHDR\\x00\\x00\\x01\\xe0\\x00\\x00\\x01\\xe0\\x08\\x02\\x00\\x00\\x00\\xf2\\xb6)…"
      ]
     },
     "metadata": {},
     "output_type": "display_data"
    }
   ],
   "source": [
    "gwas_filename = gwas_run.gwas_fp.format(phenotype=w_pheno.value, suffix=gwas_run.output_suffix)\n",
    "img_filename = gwas_run.gwas_fp.format(phenotype=w_pheno.value, suffix=gwas_run.output_suffix) + \".png\"\n",
    "\n",
    "chromosome = int(w_chr.value) if w_chr.value != \"all\" else \"all\"\n",
    "chromosome = w_chr.value\n",
    "\n",
    "%R -i img_filename\n",
    "%R -i gwas_filename\n",
    "\n",
    "if chromosome == \"all\":\n",
    "  if not os.path.exists(img_filename):\n",
    "    %R gwas_df <- suppressMessages(read_delim(gwas_filename, delim=\"\\t\")  )\n",
    "    %R png(img_filename, width=800, height=400); manhattan(gwas_df %>% filter(!is.na(P))); dev.off()\n",
    "  image = open(img_filename, \"rb\").read()\n",
    "  w_img = widgets.Image(\n",
    "    value=image,\n",
    "    format='png',\n",
    "    width=800,\n",
    "    height=400,\n",
    "  )\n",
    "  display(w_img)\n",
    "\n",
    "else:\n",
    "    %R gwas_df <-  suppressMessages(read_delim(gwas_filename, delim=\"\\t\"))\n",
    "    %R -i chromosome\n",
    "    %R manhattan(gwas_df %>% filter(!is.na(P) & CHR == chromosome))\n",
    "    "
   ]
  },
  {
   "cell_type": "code",
   "execution_count": 11,
   "metadata": {},
   "outputs": [],
   "source": [
    "#To plot in Python\n",
    "#import fastlmm.util.util as flutil\n",
    "#from fastlmm.util.stats import plotp\n",
    "#flutil.manhattan_plot(\n",
    "#  gwas_df[[\"CHR\", \"BP\", \"P\"]].values, \n",
    "#  pvalue_line=1e-8, \n",
    "#  xaxis_unit_bp=False\n",
    "#)"
   ]
  },
  {
   "cell_type": "markdown",
   "metadata": {},
   "source": [
    "# Downstream analysis"
   ]
  },
  {
   "cell_type": "code",
   "execution_count": 21,
   "metadata": {},
   "outputs": [
    {
     "data": {
      "application/vnd.jupyter.widget-view+json": {
       "model_id": "bf212b13acb74165a7425d0be3f10133",
       "version_major": 2,
       "version_minor": 0
      },
      "text/plain": [
       "FloatLogSlider(value=1e-10, description='p-value threshold', max=-1.5, min=-10.0, step=0.5)"
      ]
     },
     "metadata": {},
     "output_type": "display_data"
    }
   ],
   "source": [
    "# List top GWAS hits as a table.\n",
    "w_pvalthr = widgets.FloatLogSlider(\n",
    "    value=-7,\n",
    "    base=10,\n",
    "    min=-10, # max exponent of base\n",
    "    max=-1.5, # min exponent of base\n",
    "    step=0.5, # exponent step\n",
    "    description='p-value threshold'\n",
    ")\n",
    "display(w_pvalthr)"
   ]
  },
  {
   "cell_type": "markdown",
   "metadata": {},
   "source": [
    "## Integration with Biomart databases\n"
   ]
  },
  {
   "cell_type": "code",
   "execution_count": 13,
   "metadata": {},
   "outputs": [
    {
     "data": {
      "text/html": [
       "<div>\n",
       "<style scoped>\n",
       "    .dataframe tbody tr th:only-of-type {\n",
       "        vertical-align: middle;\n",
       "    }\n",
       "\n",
       "    .dataframe tbody tr th {\n",
       "        vertical-align: top;\n",
       "    }\n",
       "\n",
       "    .dataframe thead th {\n",
       "        text-align: right;\n",
       "    }\n",
       "</style>\n",
       "<table border=\"1\" class=\"dataframe\">\n",
       "  <thead>\n",
       "    <tr style=\"text-align: right;\">\n",
       "      <th></th>\n",
       "      <th>Gene stable ID</th>\n",
       "      <th>Gene name</th>\n",
       "      <th>Chromosome/scaffold name</th>\n",
       "      <th>Transcription start site (TSS)</th>\n",
       "    </tr>\n",
       "  </thead>\n",
       "  <tbody>\n",
       "    <tr>\n",
       "      <td>0</td>\n",
       "      <td>ENSG00000116996</td>\n",
       "      <td>ZP4</td>\n",
       "      <td>1</td>\n",
       "      <td>237890794</td>\n",
       "    </tr>\n",
       "    <tr>\n",
       "      <td>1</td>\n",
       "      <td>ENSG00000116996</td>\n",
       "      <td>ZP4</td>\n",
       "      <td>1</td>\n",
       "      <td>237890922</td>\n",
       "    </tr>\n",
       "    <tr>\n",
       "      <td>2</td>\n",
       "      <td>ENSG00000270188</td>\n",
       "      <td>MTRNR2L11</td>\n",
       "      <td>1</td>\n",
       "      <td>237945275</td>\n",
       "    </tr>\n",
       "    <tr>\n",
       "      <td>3</td>\n",
       "      <td>ENSG00000203685</td>\n",
       "      <td>STUM</td>\n",
       "      <td>1</td>\n",
       "      <td>226548764</td>\n",
       "    </tr>\n",
       "    <tr>\n",
       "      <td>4</td>\n",
       "      <td>ENSG00000203685</td>\n",
       "      <td>STUM</td>\n",
       "      <td>1</td>\n",
       "      <td>226600589</td>\n",
       "    </tr>\n",
       "    <tr>\n",
       "      <td>...</td>\n",
       "      <td>...</td>\n",
       "      <td>...</td>\n",
       "      <td>...</td>\n",
       "      <td>...</td>\n",
       "    </tr>\n",
       "    <tr>\n",
       "      <td>21877</td>\n",
       "      <td>ENSG00000144036</td>\n",
       "      <td>EXOC6B</td>\n",
       "      <td>2</td>\n",
       "      <td>72515754</td>\n",
       "    </tr>\n",
       "    <tr>\n",
       "      <td>21878</td>\n",
       "      <td>ENSG00000171551</td>\n",
       "      <td>ECEL1</td>\n",
       "      <td>2</td>\n",
       "      <td>232482458</td>\n",
       "    </tr>\n",
       "    <tr>\n",
       "      <td>21879</td>\n",
       "      <td>ENSG00000171551</td>\n",
       "      <td>ECEL1</td>\n",
       "      <td>2</td>\n",
       "      <td>232487821</td>\n",
       "    </tr>\n",
       "    <tr>\n",
       "      <td>21880</td>\n",
       "      <td>ENSG00000171551</td>\n",
       "      <td>ECEL1</td>\n",
       "      <td>2</td>\n",
       "      <td>232487834</td>\n",
       "    </tr>\n",
       "    <tr>\n",
       "      <td>21881</td>\n",
       "      <td>ENSG00000171551</td>\n",
       "      <td>ECEL1</td>\n",
       "      <td>2</td>\n",
       "      <td>232486653</td>\n",
       "    </tr>\n",
       "  </tbody>\n",
       "</table>\n",
       "<p>21882 rows × 4 columns</p>\n",
       "</div>"
      ],
      "text/plain": [
       "        Gene stable ID  Gene name  Chromosome/scaffold name  \\\n",
       "0      ENSG00000116996        ZP4                         1   \n",
       "1      ENSG00000116996        ZP4                         1   \n",
       "2      ENSG00000270188  MTRNR2L11                         1   \n",
       "3      ENSG00000203685       STUM                         1   \n",
       "4      ENSG00000203685       STUM                         1   \n",
       "...                ...        ...                       ...   \n",
       "21877  ENSG00000144036     EXOC6B                         2   \n",
       "21878  ENSG00000171551      ECEL1                         2   \n",
       "21879  ENSG00000171551      ECEL1                         2   \n",
       "21880  ENSG00000171551      ECEL1                         2   \n",
       "21881  ENSG00000171551      ECEL1                         2   \n",
       "\n",
       "       Transcription start site (TSS)  \n",
       "0                           237890794  \n",
       "1                           237890922  \n",
       "2                           237945275  \n",
       "3                           226548764  \n",
       "4                           226600589  \n",
       "...                               ...  \n",
       "21877                        72515754  \n",
       "21878                       232482458  \n",
       "21879                       232487821  \n",
       "21880                       232487834  \n",
       "21881                       232486653  \n",
       "\n",
       "[21882 rows x 4 columns]"
      ]
     },
     "execution_count": 13,
     "metadata": {},
     "output_type": "execute_result"
    }
   ],
   "source": [
    "from pybiomart import Server\n",
    "\n",
    "server = Server(host='http://www.ensembl.org')\n",
    "\n",
    "dataset = (server.marts['ENSEMBL_MART_ENSEMBL']\n",
    "                 .datasets['hsapiens_gene_ensembl'])\n",
    "\n",
    "dataset.query(attributes=['ensembl_gene_id', 'external_gene_name', 'chromosome_name', 'transcription_start_site'],\n",
    "              filters={'chromosome_name': ['1','2'], 'biotype': \"protein_coding\"})"
   ]
  }
 ],
 "metadata": {
  "kernelspec": {
   "display_name": "Python 3",
   "language": "python",
   "name": "python3"
  },
  "language_info": {
   "codemirror_mode": {
    "name": "ipython",
    "version": 3
   },
   "file_extension": ".py",
   "mimetype": "text/x-python",
   "name": "python",
   "nbconvert_exporter": "python",
   "pygments_lexer": "ipython3",
   "version": "3.7.4"
  }
 },
 "nbformat": 4,
 "nbformat_minor": 2
}
