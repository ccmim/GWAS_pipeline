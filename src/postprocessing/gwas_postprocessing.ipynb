{
 "cells": [
  {
   "cell_type": "code",
   "execution_count": null,
   "id": "fb6a0f82",
   "metadata": {},
   "outputs": [],
   "source": [
    "import shlex\n",
    "import re\n",
    "import os\n",
    "from pprint import pprint\n",
    "import subprocess\n",
    "import pandas as pd\n",
    "import yaml\n",
    "\n",
    "import ipywidgets as widgets\n",
    "from ipywidgets import interact"
   ]
  },
  {
   "cell_type": "code",
   "execution_count": null,
   "id": "1448e68d",
   "metadata": {},
   "outputs": [],
   "source": [
    "with open(\"config_postprocessing_gtex_v7.yaml\") as config_f:\n",
    "    config = yaml.load(config_f)      "
   ]
  },
  {
   "cell_type": "markdown",
   "id": "bf80d500",
   "metadata": {},
   "source": [
    "### Models and covariances"
   ]
  },
  {
   "cell_type": "code",
   "execution_count": null,
   "id": "7af7539e",
   "metadata": {},
   "outputs": [],
   "source": [
    "model_regex = re.compile(config['model_regex'])\n",
    "covariances_regex = re.compile(config['covariances_regex'])"
   ]
  },
  {
   "cell_type": "code",
   "execution_count": null,
   "id": "6832a3a5",
   "metadata": {},
   "outputs": [],
   "source": [
    "models = [x for x in os.listdir(config['model_db_folder']) if x.endswith(\"db\")]\n",
    "models = [os.path.join(config['model_db_folder'], x) for x in models]\n",
    "tissues = [model_regex.match(model).group(1) for model in models]\n",
    "models = dict(zip(tissues, models))"
   ]
  },
  {
   "cell_type": "code",
   "execution_count": null,
   "id": "1f1d91b7",
   "metadata": {},
   "outputs": [],
   "source": [
    "covariances = [x for x in os.listdir(config['model_db_folder']) if x.endswith(\"txt.gz\")]\n",
    "covariances = [os.path.join(config['model_db_folder'], x) for x in covariances]\n",
    "tissues = [covariances_regex.match(covariance).group(1) for covariance in covariances]\n",
    "covariances = dict(zip(tissues, covariances))"
   ]
  },
  {
   "cell_type": "markdown",
   "id": "365a8251",
   "metadata": {},
   "source": [
    "### Phenotypes\n",
    "One phenotype is defined by the ID of a execution (a timestamp) and the name of a latent variable."
   ]
  },
  {
   "cell_type": "code",
   "execution_count": null,
   "id": "7d60a58a",
   "metadata": {},
   "outputs": [],
   "source": [
    "latent_variables = [\"z\" + str(i) for i in range(8)]\n",
    "phenotypes = [(run, z) for run in config['runs'] for z in latent_variables]"
   ]
  },
  {
   "cell_type": "code",
   "execution_count": null,
   "id": "9dbb2ed3",
   "metadata": {
    "scrolled": true
   },
   "outputs": [],
   "source": [
    "gwas_files = { phenotype: config['gwas_pattern'].format(*phenotype) for phenotype in phenotypes }"
   ]
  },
  {
   "cell_type": "code",
   "execution_count": null,
   "id": "404e8343",
   "metadata": {},
   "outputs": [],
   "source": [
    "spredixcan_output_pattern = os.path.join(config['gwas_folder'], config['spredixcan_output_pattern'])"
   ]
  },
  {
   "cell_type": "markdown",
   "id": "8143b099",
   "metadata": {},
   "source": [
    "### Harmonization"
   ]
  },
  {
   "cell_type": "code",
   "execution_count": null,
   "id": "3f88a63a",
   "metadata": {},
   "outputs": [],
   "source": [
    "gwas_harmon_pattern = \"{}/test_std_covariates_PC__GBR_unrelated__qc/BGEN/GWAS__{}__harmonized__test_std_covariates_PC__GBR_unrelated__qc.tsv\"\n",
    "gwas_harmon_files = { phenotype: gwas_harmon_pattern.format(*phenotype) for phenotype in phenotypes }"
   ]
  },
  {
   "cell_type": "code",
   "execution_count": null,
   "id": "0af8ec71",
   "metadata": {},
   "outputs": [],
   "source": [
    "REF_DATA_ARGS = [\n",
    "    # \"-snp_reference_metadata\", \" %s METADATA\" % VARIANT_METADATA, \n",
    "    \"-liftover\", config['CHAIN_FILE']\n",
    "]\n",
    "\n",
    "HARMON_COLMAPPING_OPTIONS = [\n",
    "    '-output_column_map', 'SNP', 'variant_id', \n",
    "    '-output_column_map', 'a_1', 'effect_allele',\n",
    "    '-output_column_map', 'a_0', 'non_effect_allele',\n",
    "    '-output_column_map', 'BP', 'position',\n",
    "    '-output_column_map', 'CHR', 'chromosome', '--chromosome_format', \n",
    "    '-output_column_map', 'af', 'frequency', \n",
    "    '-output_column_map', 'P', 'pvalue',\n",
    "    '-output_column_map', 'BETA', 'effect_size',\n",
    "    '-output_column_map', 'SE', 'standard_error'    \n",
    "]\n",
    "\n",
    "OUTPUT_ORDER = [ \n",
    "    '-output_order', \n",
    "    'variant_id', \n",
    "    'panel_variant_id', \n",
    "    'chromosome', \n",
    "    'position', \n",
    "    'effect_allele', \n",
    "    'non_effect_allele', \n",
    "    'frequency', \n",
    "    'pvalue', \n",
    "    'zscore', \n",
    "    'effect_size', \n",
    "    'standard_error' \n",
    "]"
   ]
  },
  {
   "cell_type": "markdown",
   "id": "9262a2e5",
   "metadata": {},
   "source": [
    "Select phenotypes:"
   ]
  },
  {
   "cell_type": "code",
   "execution_count": null,
   "id": "ed1eecaf",
   "metadata": {},
   "outputs": [],
   "source": [
    "runs_w = widgets.SelectMultiple(options=config['runs']); display(runs_w)\n",
    "z_w = widgets.SelectMultiple(options=latent_variables); display(z_w)"
   ]
  },
  {
   "cell_type": "markdown",
   "id": "f01af651",
   "metadata": {},
   "source": [
    "Assemble harmonization commands:"
   ]
  },
  {
   "cell_type": "code",
   "execution_count": null,
   "id": "b3c484f9",
   "metadata": {},
   "outputs": [],
   "source": [
    "harmon_commands = {}\n",
    "\n",
    "for run in runs_w.value:\n",
    "    for z in z_w.value:\n",
    "    \n",
    "        gwas_file = os.path.join(gwas_folder, gwas_files[(run, z)])\n",
    "        gwas_harmon_file = os.path.join(gwas_folder, gwas_harmon_files[(run, z)])\n",
    "\n",
    "        harmon_command = [ 'python', PARSING_SCRIPT ]\n",
    "        harmon_command.extend([ '-gwas_file', gwas_file, '-output', gwas_harmon_file ])                \n",
    "        harmon_command.extend(REF_DATA_ARGS)\n",
    "        harmon_command.extend(HARMON_COLMAPPING_OPTIONS)\n",
    "        harmon_command.extend(OUTPUT_ORDER)        \n",
    "        \n",
    "        harmon_commands[(run, z)] = harmon_command"
   ]
  },
  {
   "cell_type": "markdown",
   "id": "7618e45f",
   "metadata": {},
   "source": [
    "Save individual harmonization commands as lines in a sh file:"
   ]
  },
  {
   "cell_type": "code",
   "execution_count": null,
   "id": "1f5fee9a",
   "metadata": {},
   "outputs": [],
   "source": [
    "with open(\"harmonization_commands.sh\", \"w\") as script:\n",
    "    script.write(\"#!/bin/bash\\n\")\n",
    "    for phenotype in harmon_commands:\n",
    "        dd = harmon_commands[phenotype]\n",
    "        harmon_command = \"%s\\n\\n\" % \" \".join(dd)\n",
    "        script.write(harmon_command)"
   ]
  },
  {
   "cell_type": "code",
   "execution_count": null,
   "id": "89b6e93a",
   "metadata": {},
   "outputs": [],
   "source": [
    "# pprint(harmon_commands)"
   ]
  },
  {
   "cell_type": "markdown",
   "id": "700209e7",
   "metadata": {},
   "source": [
    "### S-PrediXcan configurations"
   ]
  },
  {
   "cell_type": "code",
   "execution_count": null,
   "id": "8a3cd262",
   "metadata": {},
   "outputs": [],
   "source": [
    "GWAS_COLUMNS = {\n",
    "  \"--snp_column\": \"SNP\",\n",
    "  \"--effect_allele_column\": \"a_1\",\n",
    "  \"--non_effect_allele_column\": \"a_0\",\n",
    "  \"--beta_column\": \"BETA\",\n",
    "  \"--pvalue_column\": \"P\"\n",
    "}     "
   ]
  },
  {
   "cell_type": "code",
   "execution_count": null,
   "id": "677da6e1",
   "metadata": {},
   "outputs": [],
   "source": [
    "tissues_w = widgets.SelectMultiple(options=sorted(list(covariances.keys()))); display(tissues_w)"
   ]
  },
  {
   "cell_type": "markdown",
   "id": "fb84b2da",
   "metadata": {},
   "source": [
    "Assemble SPrediXcan commands:"
   ]
  },
  {
   "cell_type": "code",
   "execution_count": null,
   "id": "c537d5ac",
   "metadata": {},
   "outputs": [],
   "source": [
    "arguments = {}\n",
    "\n",
    "for tissue in tissues_w.value:\n",
    "    \n",
    "    arguments[tissue] = {}\n",
    "    \n",
    "    for run in runs_w.value:\n",
    "        for z in z_w.value:\n",
    "    \n",
    "            gwas_file = os.path.join(gwas_folder, gwas_files[(run, z)])\n",
    "        \n",
    "            args = {\n",
    "               \"--model_db_path\": models[tissue],\n",
    "               \"--covariance\": covariances[tissue],\n",
    "               \"--gwas_folder\": os.path.dirname(gwas_file),\n",
    "               '--gwas_file_pattern': os.path.basename(gwas_file),\n",
    "               \"--output_file\": spredixcan_output_pattern.format(run, run, z, tissue),\n",
    "            }\n",
    "            \n",
    "            args.update(GWAS_COLUMNS)\n",
    "            arguments[tissue][(run, z)] = args"
   ]
  },
  {
   "cell_type": "code",
   "execution_count": null,
   "id": "6bbf0ace",
   "metadata": {},
   "outputs": [],
   "source": [
    "def to_command(t):\n",
    "    t = list(t.items())\n",
    "    t = [item for sublist in t for item in sublist]\n",
    "    spredixcan_command = [spred_exec] + t\n",
    "    spredixcan_command = \" \".join(spredixcan_command)\n",
    "    return spredixcan_command"
   ]
  },
  {
   "cell_type": "markdown",
   "id": "f2059d6b",
   "metadata": {},
   "source": [
    "Add SPrediXcan commands to sh file"
   ]
  },
  {
   "cell_type": "code",
   "execution_count": null,
   "id": "9f7d1d4b",
   "metadata": {},
   "outputs": [],
   "source": [
    "with open(\"spred_commands.sh\", \"w\") as script:\n",
    "    script.write(\"#!/bin/bash\\n\")\n",
    "    for tissue in arguments:\n",
    "        for phenotype in arguments[tissue]:\n",
    "            spredixcan_command = to_command(arguments[tissue][phenotype])\n",
    "            script.write(spredixcan_command + \"\\n\")"
   ]
  },
  {
   "cell_type": "code",
   "execution_count": null,
   "id": "6d5e4c25",
   "metadata": {},
   "outputs": [],
   "source": [
    "# tissues_w = widgets.Dropdown(options=sorted(list(covariances.keys()))); display(tissues_w)\n",
    "# runs_w = widgets.Dropdown(options=config['runs']); display(runs_w)\n",
    "# z_w = widgets.Dropdown(options=[latent_variables]); display(z_w)"
   ]
  },
  {
   "cell_type": "markdown",
   "id": "9983a290",
   "metadata": {},
   "source": [
    "## Transcriptome-wide association studies (TWAS)"
   ]
  },
  {
   "cell_type": "markdown",
   "id": "27d12785",
   "metadata": {},
   "source": [
    "I ran the S-PrediXcan tool on my GWAS results and gene expression prediction models, to find associations between imputed gene expression levels and the latent variables."
   ]
  },
  {
   "cell_type": "code",
   "execution_count": null,
   "id": "7f6d2a94",
   "metadata": {},
   "outputs": [],
   "source": [
    "def f(runs_w, z_w, tissues_w):\n",
    "    spred_results = spredixcan_output_pattern.format(runs_w, runs_w, z_w, tissues_w)\n",
    "    df = pd.read_csv(spred_results)\n",
    "    \n",
    "    display(\n",
    "        df.drop([\"pred_perf_qval\", \"pred_perf_qval\", \"n_snps_used\", \"n_snps_in_cov\", \"n_snps_in_model\"], axis=1)\n",
    "    )\n",
    "    \n",
    "kk = interact(f, runs_w=runs_w,  z_w=z_w, tissues_w=tissues_w)"
   ]
  },
  {
   "cell_type": "code",
   "execution_count": null,
   "id": "0217c2b7",
   "metadata": {},
   "outputs": [],
   "source": []
  }
 ],
 "metadata": {
  "kernelspec": {
   "display_name": "Python 3",
   "language": "python",
   "name": "python3"
  },
  "language_info": {
   "codemirror_mode": {
    "name": "ipython",
    "version": 3
   },
   "file_extension": ".py",
   "mimetype": "text/x-python",
   "name": "python",
   "nbconvert_exporter": "python",
   "pygments_lexer": "ipython3",
   "version": "3.7.11"
  }
 },
 "nbformat": 4,
 "nbformat_minor": 5
}
