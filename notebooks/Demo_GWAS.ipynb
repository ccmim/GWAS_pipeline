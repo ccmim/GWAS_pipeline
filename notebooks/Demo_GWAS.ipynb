{
 "cells": [
  {
   "cell_type": "markdown",
   "metadata": {},
   "source": [
    "# GWAS workflow\n",
    "This notebook contains a typical workflow for running a GWAS.\n",
    "In this case, we study a set of cardiac morphological and functional parameters of the heart ventricles extracted from shape models derived from cardiovascular magnetic resonance (CMR)."
   ]
  },
  {
   "cell_type": "code",
   "execution_count": 1,
   "metadata": {},
   "outputs": [],
   "source": [
    "import os, shlex\n",
    "from subprocess import call, check_output\n",
    "repo_rootdir = check_output(shlex.split(\"git rev-parse --show-toplevel\")).strip().decode('ascii')\n",
    "os.chdir(repo_rootdir)"
   ]
  },
  {
   "cell_type": "code",
   "execution_count": 2,
   "metadata": {},
   "outputs": [],
   "source": [
    "import src.auxiliary"
   ]
  },
  {
   "cell_type": "code",
   "execution_count": 3,
   "metadata": {},
   "outputs": [],
   "source": [
    "# Import modules\n",
    "import ipywidgets as widgets\n",
    "import pandas as pd\n",
    "import rpy2\n",
    "import yaml\n",
    "from copy import deepcopy\n",
    "import re"
   ]
  },
  {
   "cell_type": "code",
   "execution_count": 4,
   "metadata": {},
   "outputs": [],
   "source": [
    "import sys\n",
    "import src.run_gwas as gwas \n",
    "from pprint import pprint"
   ]
  },
  {
   "cell_type": "markdown",
   "metadata": {},
   "source": [
    "## Select GWAS input values"
   ]
  },
  {
   "cell_type": "code",
   "execution_count": 63,
   "metadata": {},
   "outputs": [
    {
     "data": {
      "application/vnd.jupyter.widget-view+json": {
       "model_id": "93752fb9f38643f98aa08df6c75e2e74",
       "version_major": 2,
       "version_minor": 0
      },
      "text/plain": [
       "SelectMultiple(layout=Layout(height='300px'), options=('2020-09-11_02-13-41', '2020-09-30_10-51-51', '2020-09-…"
      ]
     },
     "metadata": {},
     "output_type": "display_data"
    }
   ],
   "source": [
    "selection = widgets.SelectMultiple(\n",
    "  options=sorted(os.listdir(\"data/coma_output\")), \n",
    "  layout=widgets.Layout(height=\"300px\")\n",
    ")\n",
    "display(selection)"
   ]
  },
  {
   "cell_type": "code",
   "execution_count": 132,
   "metadata": {},
   "outputs": [],
   "source": [
    "# PARAMETERS\n",
    "\n",
    "qc_files = {\n",
    "  \"qc\": \"quality_control/quality_control.yaml\", \n",
    "  \"no_qc\": \"quality_control/no_quality_control.yaml\"\n",
    "}\n",
    "\n",
    "covariates = {\n",
    "  \"adj_sbp\":  [\"X50\", \"X4079\", \"X4080\", \"X21001\", \"X21003\", \"X31\"],\n",
    "  \"adj_no_sbp\":  [\"X50\", \"X4079\", \"X21001\", \"X21003\", \"X31\"]\n",
    "}\n",
    "\n",
    "sample_white_lists = {\n",
    "  \"GBR_ALL\": [\"data/ids_list/cmr_british_ids.txt\"],\n",
    "  \"GBR_MEN\": [\"data/ids_list/cmr_british_ids.txt\", \"data/ids_list/men.txt\"],\n",
    "  \"GBR_WOMEN\": [\"data/ids_list/cmr_british_ids.txt\", \"data/ids_list/women.txt\"]\n",
    "}"
   ]
  },
  {
   "cell_type": "code",
   "execution_count": 138,
   "metadata": {},
   "outputs": [
    {
     "name": "stdout",
     "output_type": "stream",
     "text": [
      "('2020-09-11_02-13-41', '2020-09-30_12-36-48')\n",
      "2020-09-11_02-13-41 GBR_ALL adj_sbp qc\n",
      "2020-09-11_02-13-41 GBR_ALL adj_sbp no_qc\n",
      "2020-09-11_02-13-41 GBR_ALL adj_no_sbp qc\n",
      "2020-09-11_02-13-41 GBR_ALL adj_no_sbp no_qc\n",
      "2020-09-11_02-13-41 GBR_MEN adj_sbp qc\n",
      "2020-09-11_02-13-41 GBR_MEN adj_sbp no_qc\n",
      "2020-09-11_02-13-41 GBR_MEN adj_no_sbp qc\n",
      "2020-09-11_02-13-41 GBR_MEN adj_no_sbp no_qc\n",
      "2020-09-11_02-13-41 GBR_WOMEN adj_sbp qc\n",
      "2020-09-11_02-13-41 GBR_WOMEN adj_sbp no_qc\n",
      "2020-09-11_02-13-41 GBR_WOMEN adj_no_sbp qc\n",
      "2020-09-11_02-13-41 GBR_WOMEN adj_no_sbp no_qc\n",
      "2020-09-30_12-36-48 GBR_ALL adj_sbp qc\n",
      "2020-09-30_12-36-48 GBR_ALL adj_sbp no_qc\n",
      "2020-09-30_12-36-48 GBR_ALL adj_no_sbp qc\n",
      "2020-09-30_12-36-48 GBR_ALL adj_no_sbp no_qc\n",
      "2020-09-30_12-36-48 GBR_MEN adj_sbp qc\n",
      "2020-09-30_12-36-48 GBR_MEN adj_sbp no_qc\n",
      "2020-09-30_12-36-48 GBR_MEN adj_no_sbp qc\n",
      "2020-09-30_12-36-48 GBR_MEN adj_no_sbp no_qc\n",
      "2020-09-30_12-36-48 GBR_WOMEN adj_sbp qc\n",
      "2020-09-30_12-36-48 GBR_WOMEN adj_sbp no_qc\n",
      "2020-09-30_12-36-48 GBR_WOMEN adj_no_sbp qc\n",
      "2020-09-30_12-36-48 GBR_WOMEN adj_no_sbp no_qc\n"
     ]
    },
    {
     "name": "stderr",
     "output_type": "stream",
     "text": [
      "/home/rodrigo/anaconda3/lib/python3.7/site-packages/ipykernel_launcher.py:2: YAMLLoadWarning: calling yaml.load() without Loader=... is deprecated, as the default Loader is unsafe. Please read https://msg.pyyaml.org/load for full details.\n",
      "  \n"
     ]
    }
   ],
   "source": [
    "coma_yml_dir = \"config_files/coma\"\n",
    "ref_config = yaml.load(open(os.path.join(coma_yml_dir, \"config_coma.yaml\")))\n",
    "\n",
    "pprint(selection.value)\n",
    "\n",
    "latent_variables = {\n",
    "  \"2020-09-11_02-13-41\": [\"z5\", \"z5_adj\"],\n",
    "  \"2020-09-30_12-36-48\": [\"z0\", \"z0_adj\"]\n",
    "}\n",
    "\n",
    "for run_id in latent_variables:\n",
    "  for sample_white_list in sample_white_lists:\n",
    "    for cov in covariates:            \n",
    "        for qc in qc_files:\n",
    "          print(run_id, sample_white_list, cov,qc )\n",
    "          # suffix = hash(qc_file, covariates_, sample_white_list)\n",
    "          \n",
    "          suffix = \"{}__{}__{}\".format(sample_white_list, cov, qc)\n",
    "          config = deepcopy(ref_config)\n",
    "          config['sample_white_lists'] = sample_white_lists[sample_white_list]\n",
    "          config['covariates'] = covariates[cov]\n",
    "          config['quality_control'] = qc_files[qc]\n",
    "        \n",
    "          config['filename_patterns']['phenotype'] = {\n",
    "              'phenotype_file': 'coma_output/%s/latent_space__%s.csv' % (run_id, suffix),\n",
    "              'phenotype_file_tmp': 'tmp/%s__latent_space__%s.csv.tmp' % (run_id, suffix),\n",
    "              'covariates': \"\"\n",
    "          }\n",
    "          config['filename_patterns']['gwas'] = \"%s__%s/GWAS__{{phenotype}}\" % (run_id, suffix)\n",
    "          # config['phenotypes'] = latent_variables[run_id]\n",
    "            \n",
    "          config[\"phenotype_list\"] = latent_variables[run_id]\n",
    "          # config[\"phenotype_list\"] = \"phenotypes%s.txt\" % suffix\n",
    "          \n",
    "          yaml_file = os.path.join(coma_yml_dir, \"config__{}__{}.yaml\".format(run_id, suffix))\n",
    "          yaml.dump(config, open(yaml_file, \"w\"))\n",
    "          # pprint(config)"
   ]
  },
  {
   "cell_type": "code",
   "execution_count": 134,
   "metadata": {},
   "outputs": [
    {
     "data": {
      "application/vnd.jupyter.widget-view+json": {
       "model_id": "b088edabd8884427bdb726cb94b2b298",
       "version_major": 2,
       "version_minor": 0
      },
      "text/plain": [
       "SelectMultiple(description='Yaml File', layout=Layout(height='300px', width='500px'), options=('config__2020-0…"
      ]
     },
     "metadata": {},
     "output_type": "display_data"
    }
   ],
   "source": [
    "# yaml_files = [x for x in os.listdir(coma_yml_dir) if x.endswith(\".yaml\") and x.startswith(\"config\")] \n",
    "# yaml_files = sorted([x for x in os.listdir(coma_yml_dir) if x.endswith(\"adjusted.yaml\") and x.startswith(\"config\")])\n",
    "yaml_files = sorted([x for x in os.listdir(coma_yml_dir) if x.startswith(\"config\")])\n",
    "\n",
    "w_yaml = widgets.SelectMultiple(\n",
    "    options=yaml_files,\n",
    "    description='Yaml File',\n",
    "    disabled=False,\n",
    "    layout=widgets.Layout(width='500px', height='300px')\n",
    ")\n",
    "\n",
    "display(w_yaml)"
   ]
  },
  {
   "cell_type": "code",
   "execution_count": 99,
   "metadata": {},
   "outputs": [
    {
     "name": "stderr",
     "output_type": "stream",
     "text": [
      "/home/rodrigo/anaconda3/lib/python3.7/site-packages/ipykernel_launcher.py:1: YAMLLoadWarning: calling yaml.load() without Loader=... is deprecated, as the default Loader is unsafe. Please read https://msg.pyyaml.org/load for full details.\n",
      "  \"\"\"Entry point for launching an IPython kernel.\n"
     ]
    },
    {
     "data": {
      "text/plain": [
       "{'chromosomes': '1-22',\n",
       " 'covariates': ('X50', 'X4079', 'X21001', 'X21003', 'X31'),\n",
       " 'covariates_file': 'data/covariates.csv',\n",
       " 'data_dir': 'data',\n",
       " 'exec': {'plink': 'plink'},\n",
       " 'filename_patterns': {'genotype': 'genotype_patterns/genotype_patterns.yaml',\n",
       "  'gwas': '2020-09-11_02-13-41__GBR_WOMEN__adj_no_sbp__qc/GWAS__{{phenotype}}',\n",
       "  'phenotype': {'covariates': '',\n",
       "   'phenotype_file': 'coma_output/2020-09-11_02-13-41/latent_space__GBR_WOMEN__adj_no_sbp__qc.csv',\n",
       "   'phenotype_file_tmp': 'tmp/2020-09-11_02-13-41__latent_space__GBR_WOMEN__adj_no_sbp__qc.csv.tmp'}},\n",
       " 'output_dir': 'output/coma',\n",
       " 'quality_control': 'quality_control/quality_control.yaml',\n",
       " 'sample_black_lists': None,\n",
       " 'sample_white_lists': ('data/ids_list/cmr_british_ids.txt',\n",
       "  'data/ids_list/women.txt')}"
      ]
     },
     "execution_count": 99,
     "metadata": {},
     "output_type": "execute_result"
    }
   ],
   "source": [
    "yaml.load(open(os.path.join(\"config_files/coma\", w_yaml.value[0])))"
   ]
  },
  {
   "cell_type": "markdown",
   "metadata": {},
   "source": [
    "## Preprocess data (not yet implemented here, this is done separately in analysis/adjust_for_covariates.R)\n"
   ]
  },
  {
   "cell_type": "markdown",
   "metadata": {},
   "source": [
    "### Filter by ethnicity (or control for population stratification)\n",
    "Taking care of population stratification is essential to avoid spurious associations in the GWAS.\n",
    "In this case we filter for the major ethnic group in UK Biobank (British)."
   ]
  },
  {
   "cell_type": "markdown",
   "metadata": {},
   "source": [
    "### Adjust for covariates and inverse-normalize\n",
    "The studied phenotypes were found to be strongly associated with variables such as gender, height, BMI, age and blood pressure.\n",
    "In order to standardize the phenotypes, they are adjusted for all of these covariates."
   ]
  },
  {
   "cell_type": "markdown",
   "metadata": {},
   "source": [
    "## Run GWAS with Plink"
   ]
  },
  {
   "cell_type": "code",
   "execution_count": 123,
   "metadata": {},
   "outputs": [
    {
     "name": "stderr",
     "output_type": "stream",
     "text": [
      "/home/rodrigo/anaconda3/lib/python3.7/site-packages/ipykernel_launcher.py:2: YAMLLoadWarning: calling yaml.load() without Loader=... is deprecated, as the default Loader is unsafe. Please read https://msg.pyyaml.org/load for full details.\n",
      "  \n"
     ]
    },
    {
     "name": "stdout",
     "output_type": "stream",
     "text": [
      "2020-09-11_02-13-41\n"
     ]
    },
    {
     "name": "stderr",
     "output_type": "stream",
     "text": [
      "/home/rodrigo/anaconda3/lib/python3.7/site-packages/ipykernel_launcher.py:2: YAMLLoadWarning: calling yaml.load() without Loader=... is deprecated, as the default Loader is unsafe. Please read https://msg.pyyaml.org/load for full details.\n",
      "  \n"
     ]
    },
    {
     "name": "stdout",
     "output_type": "stream",
     "text": [
      "2020-09-11_02-13-41\n"
     ]
    },
    {
     "name": "stderr",
     "output_type": "stream",
     "text": [
      "/home/rodrigo/anaconda3/lib/python3.7/site-packages/ipykernel_launcher.py:2: YAMLLoadWarning: calling yaml.load() without Loader=... is deprecated, as the default Loader is unsafe. Please read https://msg.pyyaml.org/load for full details.\n",
      "  \n"
     ]
    },
    {
     "name": "stdout",
     "output_type": "stream",
     "text": [
      "2020-09-11_02-13-41\n"
     ]
    },
    {
     "name": "stderr",
     "output_type": "stream",
     "text": [
      "/home/rodrigo/anaconda3/lib/python3.7/site-packages/ipykernel_launcher.py:2: YAMLLoadWarning: calling yaml.load() without Loader=... is deprecated, as the default Loader is unsafe. Please read https://msg.pyyaml.org/load for full details.\n",
      "  \n"
     ]
    },
    {
     "name": "stdout",
     "output_type": "stream",
     "text": [
      "2020-09-11_02-13-41\n",
      "2020-09-11_02-13-41\n"
     ]
    },
    {
     "name": "stderr",
     "output_type": "stream",
     "text": [
      "/home/rodrigo/anaconda3/lib/python3.7/site-packages/ipykernel_launcher.py:2: YAMLLoadWarning: calling yaml.load() without Loader=... is deprecated, as the default Loader is unsafe. Please read https://msg.pyyaml.org/load for full details.\n",
      "  \n"
     ]
    },
    {
     "ename": "KeyError",
     "evalue": "'phenotypes'",
     "output_type": "error",
     "traceback": [
      "\u001b[0;31m---------------------------------------------------------------------------\u001b[0m",
      "\u001b[0;31mKeyError\u001b[0m                                  Traceback (most recent call last)",
      "\u001b[0;32m<ipython-input-123-83b8b418d4fe>\u001b[0m in \u001b[0;36m<module>\u001b[0;34m\u001b[0m\n\u001b[1;32m     10\u001b[0m       \"--samples_white_list\"] + list(config[\"sample_white_lists\"]) + \\\n\u001b[1;32m     11\u001b[0m       \u001b[0;34m[\u001b[0m\u001b[0;34m\"--phenotypes\"\u001b[0m\u001b[0;34m]\u001b[0m \u001b[0;34m+\u001b[0m \u001b[0;34m[\u001b[0m\u001b[0mx\u001b[0m \u001b[0;32mfor\u001b[0m \u001b[0mx\u001b[0m \u001b[0;32min\u001b[0m \u001b[0mconfig\u001b[0m\u001b[0;34m[\u001b[0m\u001b[0;34m\"phenotypes\"\u001b[0m\u001b[0;34m]\u001b[0m \u001b[0;32mif\u001b[0m \u001b[0;32mnot\u001b[0m \u001b[0mx\u001b[0m\u001b[0;34m.\u001b[0m\u001b[0mendswith\u001b[0m\u001b[0;34m(\u001b[0m\u001b[0;34m\"adj\"\u001b[0m\u001b[0;34m)\u001b[0m\u001b[0;34m]\u001b[0m \u001b[0;34m+\u001b[0m\u001b[0;31m \u001b[0m\u001b[0;31m\\\u001b[0m\u001b[0;34m\u001b[0m\u001b[0;34m\u001b[0m\u001b[0m\n\u001b[0;32m---> 12\u001b[0;31m       [ \"--covariates\"] + list(config[\"covariates\"]) + [\n\u001b[0m\u001b[1;32m     13\u001b[0m       \u001b[0;34m\"--phenotypes_black_list\"\u001b[0m\u001b[0;34m,\u001b[0m \u001b[0;34m\"ID\"\u001b[0m\u001b[0;34m,\u001b[0m \u001b[0;34m\"subset\"\u001b[0m\u001b[0;34m,\u001b[0m\u001b[0;34m\u001b[0m\u001b[0;34m\u001b[0m\u001b[0m\n\u001b[1;32m     14\u001b[0m       \"--keep_non_cov_adj\"]\n",
      "\u001b[0;31mKeyError\u001b[0m: 'phenotypes'"
     ]
    }
   ],
   "source": [
    "for config in w_yaml.value:\n",
    "  config = yaml.load(open(os.path.join(\"config_files/coma\", config)))\n",
    "  experiment = config[\"filename_patterns\"][\"gwas\"].split(\"__\")[0]\n",
    "  print(experiment)\n",
    "  adj_command = [\n",
    "      \"Rscript\", \"src/adjust_for_covariates.R\", \n",
    "      \"-i\", \"data/coma_output/{}/latent_space.csv\".format(experiment), \n",
    "      \"-c\", \"data/covariates.csv\",\n",
    "      \"-o\", \"data/{}\".format(config[\"filename_patterns\"][\"phenotype\"][\"phenotype_file\"]),\n",
    "      \"--samples_white_list\"] + list(config[\"sample_white_lists\"]) + \\\n",
    "      [\"--phenotypes\"] + [x for x in config[\"phenotypes\"] if not x.endswith(\"adj\")] + \\\n",
    "      [ \"--covariates\"] + list(config[\"covariates\"]) + [\n",
    "      \"--phenotypes_black_list\", \"ID\", \"subset\",\n",
    "      \"--keep_non_cov_adj\"]\n",
    "  pprint(adj_command)\n",
    "  call(adj_command)"
   ]
  },
  {
   "cell_type": "code",
   "execution_count": 140,
   "metadata": {},
   "outputs": [
    {
     "name": "stdout",
     "output_type": "stream",
     "text": [
      "config_files/coma/config__2020-09-11_02-13-41__GBR_ALL__adj_no_sbp__qc.yaml\n",
      "Processing z5...\n",
      "  Processing chromosome 1...\n",
      "  Processing chromosome 2...\n",
      "  Processing chromosome 3...\n",
      "  Processing chromosome 4...\n",
      "  Processing chromosome 5...\n",
      "  Processing chromosome 6...\n",
      "  Processing chromosome 7...\n",
      "  Processing chromosome 8...\n",
      "  Processing chromosome 9...\n",
      "  Processing chromosome 10...\n",
      "  Processing chromosome 11...\n",
      "  Processing chromosome 12...\n",
      "  Processing chromosome 13...\n",
      "  Processing chromosome 14...\n",
      "  Processing chromosome 15...\n",
      "  Processing chromosome 16...\n",
      "  Processing chromosome 17...\n",
      "  Processing chromosome 18...\n",
      "  Processing chromosome 19...\n",
      "  Processing chromosome 20...\n",
      "  Processing chromosome 21...\n",
      "  Processing chromosome 22...\n",
      "Processing z5_adj...\n",
      "  Processing chromosome 1...\n",
      "  Processing chromosome 2...\n",
      "  Processing chromosome 3...\n",
      "  Processing chromosome 4...\n",
      "  Processing chromosome 5...\n",
      "  Processing chromosome 6...\n",
      "  Processing chromosome 7...\n",
      "  Processing chromosome 8...\n",
      "  Processing chromosome 9...\n",
      "  Processing chromosome 10...\n",
      "  Processing chromosome 11...\n",
      "  Processing chromosome 12...\n",
      "  Processing chromosome 13...\n",
      "  Processing chromosome 14...\n",
      "  Processing chromosome 15...\n",
      "  Processing chromosome 16...\n",
      "  Processing chromosome 17...\n",
      "  Processing chromosome 18...\n",
      "  Processing chromosome 19...\n",
      "  Processing chromosome 20...\n",
      "  Processing chromosome 21...\n",
      "  Processing chromosome 22...\n",
      "config_files/coma/config__2020-09-11_02-13-41__GBR_ALL__adj_sbp__no_qc.yaml\n",
      "Processing z5...\n",
      "  Processing chromosome 1...\n",
      "  Processing chromosome 2...\n",
      "  Processing chromosome 3...\n",
      "  Processing chromosome 4...\n",
      "  Processing chromosome 5...\n",
      "  Processing chromosome 6...\n",
      "  Processing chromosome 7...\n",
      "  Processing chromosome 8...\n",
      "  Processing chromosome 9...\n",
      "  Processing chromosome 10...\n",
      "  Processing chromosome 11...\n",
      "  Processing chromosome 12...\n",
      "  Processing chromosome 13...\n",
      "  Processing chromosome 14...\n",
      "  Processing chromosome 15...\n",
      "  Processing chromosome 16...\n",
      "  Processing chromosome 17...\n",
      "  Processing chromosome 18...\n",
      "  Processing chromosome 19...\n",
      "  Processing chromosome 20...\n",
      "  Processing chromosome 21...\n",
      "  Processing chromosome 22...\n",
      "Processing z5_adj...\n",
      "  Processing chromosome 1...\n",
      "  Processing chromosome 2...\n",
      "  Processing chromosome 3...\n",
      "  Processing chromosome 4...\n",
      "  Processing chromosome 5...\n",
      "  Processing chromosome 6...\n",
      "  Processing chromosome 7...\n",
      "  Processing chromosome 8...\n",
      "  Processing chromosome 9...\n",
      "  Processing chromosome 10...\n",
      "  Processing chromosome 11...\n",
      "  Processing chromosome 12...\n",
      "  Processing chromosome 13...\n",
      "  Processing chromosome 14...\n",
      "  Processing chromosome 15...\n",
      "  Processing chromosome 16...\n",
      "  Processing chromosome 17...\n",
      "  Processing chromosome 18...\n",
      "  Processing chromosome 19...\n",
      "  Processing chromosome 20...\n",
      "  Processing chromosome 21...\n",
      "  Processing chromosome 22...\n",
      "config_files/coma/config__2020-09-30_12-36-48__GBR_ALL__adj_no_sbp__no_qc.yaml\n",
      "Processing z0...\n",
      "  Processing chromosome 1...\n",
      "  Processing chromosome 2...\n",
      "  Processing chromosome 3...\n",
      "  Processing chromosome 4...\n",
      "  Processing chromosome 5...\n",
      "  Processing chromosome 6...\n",
      "  Processing chromosome 7...\n",
      "  Processing chromosome 8...\n",
      "  Processing chromosome 9...\n",
      "  Processing chromosome 10...\n",
      "  Processing chromosome 11...\n",
      "  Processing chromosome 12...\n",
      "  Processing chromosome 13...\n",
      "  Processing chromosome 14...\n",
      "  Processing chromosome 15...\n",
      "  Processing chromosome 16...\n",
      "  Processing chromosome 17...\n",
      "  Processing chromosome 18...\n",
      "  Processing chromosome 19...\n",
      "  Processing chromosome 20...\n",
      "  Processing chromosome 21...\n",
      "  Processing chromosome 22...\n",
      "Processing z0_adj...\n",
      "  Processing chromosome 1...\n",
      "  Processing chromosome 2...\n",
      "  Processing chromosome 3...\n",
      "  Processing chromosome 4...\n",
      "  Processing chromosome 5...\n",
      "  Processing chromosome 6...\n",
      "  Processing chromosome 7...\n",
      "  Processing chromosome 8...\n",
      "  Processing chromosome 9...\n",
      "  Processing chromosome 10...\n",
      "  Processing chromosome 11...\n",
      "  Processing chromosome 12...\n",
      "  Processing chromosome 13...\n",
      "  Processing chromosome 14...\n",
      "  Processing chromosome 15...\n",
      "  Processing chromosome 16...\n",
      "  Processing chromosome 17...\n",
      "  Processing chromosome 18...\n",
      "  Processing chromosome 19...\n",
      "  Processing chromosome 20...\n",
      "  Processing chromosome 21...\n",
      "  Processing chromosome 22...\n",
      "config_files/coma/config__2020-09-30_12-36-48__GBR_ALL__adj_no_sbp__qc.yaml\n",
      "Processing z0...\n",
      "  Processing chromosome 1...\n",
      "  Processing chromosome 2...\n",
      "  Processing chromosome 3...\n",
      "  Processing chromosome 4...\n",
      "  Processing chromosome 5...\n",
      "  Processing chromosome 6...\n",
      "  Processing chromosome 7...\n",
      "  Processing chromosome 8...\n",
      "  Processing chromosome 9...\n",
      "  Processing chromosome 10...\n",
      "  Processing chromosome 11...\n",
      "  Processing chromosome 12...\n",
      "  Processing chromosome 13...\n",
      "  Processing chromosome 14...\n",
      "  Processing chromosome 15...\n",
      "  Processing chromosome 16...\n",
      "  Processing chromosome 17...\n",
      "  Processing chromosome 18...\n",
      "  Processing chromosome 19...\n",
      "  Processing chromosome 20...\n",
      "  Processing chromosome 21...\n",
      "  Processing chromosome 22...\n",
      "Processing z0_adj...\n",
      "  Processing chromosome 1...\n",
      "  Processing chromosome 2...\n",
      "  Processing chromosome 3...\n",
      "  Processing chromosome 4...\n",
      "  Processing chromosome 5...\n",
      "  Processing chromosome 6...\n",
      "  Processing chromosome 7...\n",
      "  Processing chromosome 8...\n",
      "  Processing chromosome 9...\n",
      "  Processing chromosome 10...\n",
      "  Processing chromosome 11...\n",
      "  Processing chromosome 12...\n",
      "  Processing chromosome 13...\n",
      "  Processing chromosome 14...\n",
      "  Processing chromosome 15...\n",
      "  Processing chromosome 16...\n",
      "  Processing chromosome 17...\n",
      "  Processing chromosome 18...\n",
      "  Processing chromosome 19...\n",
      "  Processing chromosome 20...\n",
      "  Processing chromosome 21...\n",
      "  Processing chromosome 22...\n",
      "config_files/coma/config__2020-09-30_12-36-48__GBR_ALL__adj_sbp__no_qc.yaml\n",
      "Processing z0...\n",
      "  Processing chromosome 1...\n",
      "  Processing chromosome 2...\n",
      "  Processing chromosome 3...\n",
      "  Processing chromosome 4...\n",
      "  Processing chromosome 5...\n",
      "  Processing chromosome 6...\n",
      "  Processing chromosome 7...\n",
      "  Processing chromosome 8...\n",
      "  Processing chromosome 9...\n",
      "  Processing chromosome 10...\n",
      "  Processing chromosome 11...\n",
      "  Processing chromosome 12...\n",
      "  Processing chromosome 13...\n",
      "  Processing chromosome 14...\n",
      "  Processing chromosome 15...\n",
      "  Processing chromosome 16...\n",
      "  Processing chromosome 17...\n",
      "  Processing chromosome 18...\n",
      "  Processing chromosome 19...\n",
      "  Processing chromosome 20...\n",
      "  Processing chromosome 21...\n",
      "  Processing chromosome 22...\n",
      "Processing z0_adj...\n",
      "  Processing chromosome 1...\n",
      "  Processing chromosome 2...\n",
      "  Processing chromosome 3...\n",
      "  Processing chromosome 4...\n",
      "  Processing chromosome 5...\n",
      "  Processing chromosome 6...\n",
      "  Processing chromosome 7...\n",
      "  Processing chromosome 8...\n",
      "  Processing chromosome 9...\n",
      "  Processing chromosome 10...\n",
      "  Processing chromosome 11...\n",
      "  Processing chromosome 12...\n",
      "  Processing chromosome 13...\n",
      "  Processing chromosome 14...\n",
      "  Processing chromosome 15...\n",
      "  Processing chromosome 16...\n",
      "  Processing chromosome 17...\n",
      "  Processing chromosome 18...\n",
      "  Processing chromosome 19...\n",
      "  Processing chromosome 20...\n",
      "  Processing chromosome 21...\n",
      "  Processing chromosome 22...\n"
     ]
    }
   ],
   "source": [
    "for yaml_file in [os.path.join(coma_yml_dir, x) for x in w_yaml.value]:\n",
    "    print(yaml_file)\n",
    "    # pprint(yaml.safe_load(open(yaml_file)))\n",
    "    gwas_run = gwas.GWAS_Run(yaml_file)\n",
    "    gwas_run.run()"
   ]
  },
  {
   "cell_type": "markdown",
   "metadata": {},
   "source": [
    "## Select phenotypes and chromosomes"
   ]
  },
  {
   "cell_type": "code",
   "execution_count": 20,
   "metadata": {
    "scrolled": true
   },
   "outputs": [
    {
     "ename": "AttributeError",
     "evalue": "'GWAS_Run' object has no attribute 'phenotypes'",
     "output_type": "error",
     "traceback": [
      "\u001b[0;31m---------------------------------------------------------------------------\u001b[0m",
      "\u001b[0;31mAttributeError\u001b[0m                            Traceback (most recent call last)",
      "\u001b[0;32m<ipython-input-20-d2a8f69a00f1>\u001b[0m in \u001b[0;36m<module>\u001b[0;34m\u001b[0m\n\u001b[1;32m      1\u001b[0m w_phenos = widgets.SelectMultiple(\n\u001b[0;32m----> 2\u001b[0;31m     \u001b[0moptions\u001b[0m\u001b[0;34m=\u001b[0m\u001b[0mgwas_run\u001b[0m\u001b[0;34m.\u001b[0m\u001b[0mphenotypes\u001b[0m\u001b[0;34m,\u001b[0m\u001b[0;34m\u001b[0m\u001b[0;34m\u001b[0m\u001b[0m\n\u001b[0m\u001b[1;32m      3\u001b[0m     \u001b[0mvalue\u001b[0m\u001b[0;34m=\u001b[0m\u001b[0mgwas_run\u001b[0m\u001b[0;34m.\u001b[0m\u001b[0mphenotypes\u001b[0m\u001b[0;34m,\u001b[0m\u001b[0;34m\u001b[0m\u001b[0;34m\u001b[0m\u001b[0m\n\u001b[1;32m      4\u001b[0m     \u001b[0mdescription\u001b[0m\u001b[0;34m=\u001b[0m\u001b[0;34m'Phenotypes:'\u001b[0m\u001b[0;34m,\u001b[0m\u001b[0;34m\u001b[0m\u001b[0;34m\u001b[0m\u001b[0m\n\u001b[1;32m      5\u001b[0m     \u001b[0mdisabled\u001b[0m\u001b[0;34m=\u001b[0m\u001b[0;32mFalse\u001b[0m\u001b[0;34m\u001b[0m\u001b[0;34m\u001b[0m\u001b[0m\n",
      "\u001b[0;31mAttributeError\u001b[0m: 'GWAS_Run' object has no attribute 'phenotypes'"
     ]
    }
   ],
   "source": [
    "w_phenos = widgets.SelectMultiple(\n",
    "    options=gwas_run.phenotypes,\n",
    "    value=gwas_run.phenotypes,\n",
    "    description='Phenotypes:',\n",
    "    disabled=False\n",
    ")\n",
    "display(w_phenos)\n",
    "\n",
    "w_chr = widgets.SelectMultiple(\n",
    "    options=[\"all\"] + [i for i in range(1,23)],\n",
    "    value=['all'],\n",
    "    description='Chromosomes',\n",
    "    disabled=False\n",
    ")\n",
    "\n",
    "display(w_chr)\n"
   ]
  },
  {
   "cell_type": "code",
   "execution_count": null,
   "metadata": {},
   "outputs": [],
   "source": [
    "gwas_run.chromosomes = w_chr.value if 'all' not in w_chr.value else [i for i in range(1,23)]\n",
    "gwas_run.phenotypes = w_phenos.value\n",
    "print(gwas_run.chromosomes)\n",
    "print(gwas_run.phenotypes)"
   ]
  },
  {
   "cell_type": "markdown",
   "metadata": {},
   "source": [
    "## Generate Manhattan plots"
   ]
  },
  {
   "cell_type": "markdown",
   "metadata": {},
   "source": [
    "For this, we use the R qqman package. In order to run R code within this Python notebook, I load the rpy2 module.\n",
    "Then I can run R commands by writing %R in front of the command"
   ]
  },
  {
   "cell_type": "code",
   "execution_count": null,
   "metadata": {},
   "outputs": [],
   "source": [
    "# To plot in R\n",
    "%load_ext rpy2.ipython\n",
    "%R suppressMessages(require(qqman))\n",
    "%R suppressMessages(require(tidyverse))"
   ]
  },
  {
   "cell_type": "markdown",
   "metadata": {},
   "source": [
    "### Control panel"
   ]
  },
  {
   "cell_type": "code",
   "execution_count": null,
   "metadata": {
    "scrolled": true
   },
   "outputs": [],
   "source": [
    "w_pheno = widgets.Dropdown(\n",
    "    options=gwas_run.phenotypes,\n",
    "    description='Phenotype',\n",
    "    disabled=False,\n",
    ")\n",
    "\n",
    "display(w_pheno)\n",
    "\n",
    "w_chr = widgets.Dropdown(\n",
    "    options=['all'] + list(gwas_run.chromosomes),\n",
    "    value='all',\n",
    "    rows=10,\n",
    "    description='chromosomes:',\n",
    ")\n",
    "\n",
    "display(w_chr)"
   ]
  },
  {
   "cell_type": "markdown",
   "metadata": {},
   "source": [
    "### Plot"
   ]
  },
  {
   "cell_type": "code",
   "execution_count": null,
   "metadata": {
    "scrolled": false
   },
   "outputs": [],
   "source": [
    "gwas_filename = gwas_run.gwas_fp.format(phenotype=w_pheno.value, suffix=gwas_run.output_suffix)\n",
    "img_filename = gwas_run.gwas_fp.format(phenotype=w_pheno.value, suffix=gwas_run.output_suffix) + \".png\"\n",
    "\n",
    "chromosome = int(w_chr.value) if w_chr.value != \"all\" else \"all\"\n",
    "chromosome = w_chr.value\n",
    "\n",
    "%R -i img_filename\n",
    "%R -i gwas_filename\n",
    "\n",
    "if chromosome == \"all\":\n",
    "  if not os.path.exists(img_filename):\n",
    "    %R gwas_df <- suppressMessages(read_delim(gwas_filename, delim=\"\\t\")  )\n",
    "    %R png(img_filename, width=800, height=400); manhattan(gwas_df %>% filter(!is.na(P))); dev.off()\n",
    "  image = open(img_filename, \"rb\").read()\n",
    "  w_img = widgets.Image(\n",
    "    value=image,\n",
    "    format='png',\n",
    "    width=800,\n",
    "    height=400,\n",
    "  )\n",
    "  display(w_img)\n",
    "\n",
    "else:\n",
    "    %R gwas_df <-  suppressMessages(read_delim(gwas_filename, delim=\"\\t\"))\n",
    "    %R -i chromosome    \n",
    "    %R manhattan(gwas_df %>% filter(!is.na(P) & CHR == chromosome), main= glue::glue(\"{chromosome}\")\n",
    "    "
   ]
  },
  {
   "cell_type": "code",
   "execution_count": null,
   "metadata": {},
   "outputs": [],
   "source": []
  }
 ],
 "metadata": {
  "kernelspec": {
   "display_name": "Python 3",
   "language": "python",
   "name": "python3"
  },
  "language_info": {
   "codemirror_mode": {
    "name": "ipython",
    "version": 3
   },
   "file_extension": ".py",
   "mimetype": "text/x-python",
   "name": "python",
   "nbconvert_exporter": "python",
   "pygments_lexer": "ipython3",
   "version": "3.7.4"
  }
 },
 "nbformat": 4,
 "nbformat_minor": 2
}
