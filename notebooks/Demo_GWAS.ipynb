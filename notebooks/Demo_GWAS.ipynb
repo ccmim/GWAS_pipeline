{
 "cells": [
  {
   "cell_type": "markdown",
   "id": "presidential-cocktail",
   "metadata": {},
   "source": [
    "# GWAS workflow\n",
    "This notebook contains a typical workflow for running a GWAS.\n",
    "In this case, we study a set of cardiac morphological and functional parameters of the heart ventricles extracted from shape models derived from cardiovascular magnetic resonance (CMR)."
   ]
  },
  {
   "cell_type": "code",
   "execution_count": 1,
   "id": "married-constitution",
   "metadata": {},
   "outputs": [],
   "source": [
    "import os, shlex\n",
    "from subprocess import call, check_output\n",
    "repo_rootdir = check_output(shlex.split(\"git rev-parse --show-toplevel\")).strip().decode('ascii')\n",
    "os.chdir(repo_rootdir)"
   ]
  },
  {
   "cell_type": "code",
   "execution_count": 2,
   "id": "dramatic-knitting",
   "metadata": {},
   "outputs": [],
   "source": [
    "import src.auxiliary"
   ]
  },
  {
   "cell_type": "code",
   "execution_count": 3,
   "id": "olive-spank",
   "metadata": {},
   "outputs": [],
   "source": [
    "# Import modules\n",
    "import ipywidgets as widgets\n",
    "import pandas as pd\n",
    "import rpy2\n",
    "import yaml\n",
    "from copy import deepcopy\n",
    "import re"
   ]
  },
  {
   "cell_type": "code",
   "execution_count": 4,
   "id": "thick-shore",
   "metadata": {},
   "outputs": [],
   "source": [
    "import sys\n",
    "import src.run_gwas as gwas \n",
    "from pprint import pprint"
   ]
  },
  {
   "cell_type": "code",
   "execution_count": 5,
   "id": "radio-disaster",
   "metadata": {},
   "outputs": [],
   "source": [
    "from src.run_gwas import GWAS_Run"
   ]
  },
  {
   "cell_type": "markdown",
   "id": "ranking-evidence",
   "metadata": {},
   "source": [
    "### Define GWAS configuration"
   ]
  },
  {
   "cell_type": "code",
   "execution_count": 22,
   "id": "brave-bridal",
   "metadata": {
    "scrolled": true
   },
   "outputs": [
    {
     "data": {
      "application/vnd.jupyter.widget-view+json": {
       "model_id": "bf300053a3064657bb9865b32ce00e41",
       "version_major": 2,
       "version_minor": 0
      },
      "text/plain": [
       "Dropdown(index=1, options=('config_coma.yaml', 'ref_config.yaml'), value='ref_config.yaml')"
      ]
     },
     "metadata": {},
     "output_type": "display_data"
    }
   ],
   "source": [
    "config_dir = \"config_files\"\n",
    "w = widgets.Dropdown(options=[x for x in os.listdir(config_dir) if x.endswith(\"yaml\")], value=\"ref_config.yaml\")\n",
    "display(w)"
   ]
  },
  {
   "cell_type": "code",
   "execution_count": 23,
   "id": "balanced-adult",
   "metadata": {},
   "outputs": [
    {
     "name": "stdout",
     "output_type": "stream",
     "text": [
      "{'chromosomes': '1-22',\n",
      " 'covariates': 'config_files/covariates/std_covariates.yaml',\n",
      " 'exec': {'plink': 'plink'},\n",
      " 'filename_patterns': {'genotype': 'config_files/genotype_patterns/genotype_patterns.yaml',\n",
      "                       'gwas': 'output/traditional_indices/{suffix}/GWAS__{{phenotype}}__{suffix}',\n",
      "                       'phenotype': 'data/cardiac_indices/CMR_info_LVRVLARA_11350.csv',\n",
      "                       'phenotype_intermediate': 'data/cardiac_indices/adjusted_for_covariates/CMR_info_LVRVLARA_11350.csv',\n",
      "                       'tmpdir': 'data/tmp/traditional_indices/{suffix}'},\n",
      " 'quality_control': 'config_files/quality_control/quality_control.yaml',\n",
      " 'sample_black_lists': None,\n",
      " 'sample_white_lists': ['data/ids_list/cmr_british_ids.txt',\n",
      "                        'data/ids_list/women.txt']}\n"
     ]
    },
    {
     "name": "stderr",
     "output_type": "stream",
     "text": [
      "/home/rodrigo/anaconda3/lib/python3.7/site-packages/ipykernel_launcher.py:2: YAMLLoadWarning: calling yaml.load() without Loader=... is deprecated, as the default Loader is unsafe. Please read https://msg.pyyaml.org/load for full details.\n",
      "  \n"
     ]
    }
   ],
   "source": [
    "config_file = os.path.join(config_dir, w.value)\n",
    "config = yaml.load(open(config_file))\n",
    "pprint(config)"
   ]
  },
  {
   "cell_type": "markdown",
   "id": "superior-stuff",
   "metadata": {},
   "source": [
    "##### Define file name rules"
   ]
  },
  {
   "cell_type": "code",
   "execution_count": 24,
   "id": "round-marsh",
   "metadata": {},
   "outputs": [],
   "source": [
    "from main import adjust_for_covariates, generate_summary_and_figures, extract_formatter_tokens"
   ]
  },
  {
   "cell_type": "code",
   "execution_count": 25,
   "id": "proper-atmosphere",
   "metadata": {},
   "outputs": [
    {
     "name": "stdout",
     "output_type": "stream",
     "text": [
      "{'covariates': {'config_files/covariates/std_covariates.yaml': 'std_covariates',\n",
      "                'config_files/covariates/std_covariates_and_z5.yaml': 'std_covariates_adj_by_z5',\n",
      "                'config_files/covariates/std_covariates_no_SBP.yaml': 'std_covariates_no_SBP'},\n",
      " 'quality_control': {'config_files/quality_control/no_quality_control.yaml': 'no_qc',\n",
      "                     'config_files/quality_control/quality_control.yaml': 'qc'},\n",
      " 'sample_white_lists': {('data/ids_list/cmr_british_ids.txt',): 'GBR',\n",
      "                        ('data/ids_list/cmr_british_ids.txt', 'data/ids_list/men.txt'): 'GBR_MEN',\n",
      "                        ('data/ids_list/cmr_british_ids.txt', 'data/ids_list/women.txt'): 'GBR_WOMEN',\n",
      "                        ('data/ids_list/cmr_ids.txt',): 'ALL_ETHNICITIES'}}\n"
     ]
    },
    {
     "name": "stderr",
     "output_type": "stream",
     "text": [
      "/home/rodrigo/anaconda3/lib/python3.7/site-packages/ipykernel_launcher.py:1: YAMLLoadWarning: calling yaml.load() without Loader=... is deprecated, as the default Loader is unsafe. Please read https://msg.pyyaml.org/load for full details.\n",
      "  \"\"\"Entry point for launching an IPython kernel.\n"
     ]
    }
   ],
   "source": [
    "name_rules = yaml.load(open(os.path.join(config_dir, \"filename_rules/filename_rules.yaml\")))\n",
    "pprint(name_rules)"
   ]
  },
  {
   "cell_type": "code",
   "execution_count": 26,
   "id": "cordless-navigation",
   "metadata": {},
   "outputs": [],
   "source": [
    "suffix_pattern = \"{covariates}__{sample_white_lists}__{quality_control}\""
   ]
  },
  {
   "cell_type": "code",
   "execution_count": 27,
   "id": "abroad-madison",
   "metadata": {},
   "outputs": [],
   "source": [
    "tokens = extract_formatter_tokens(suffix_pattern)"
   ]
  },
  {
   "cell_type": "code",
   "execution_count": 28,
   "id": "figured-coordination",
   "metadata": {},
   "outputs": [],
   "source": [
    "for token in tokens:\n",
    "    if token in config.keys():\n",
    "        if isinstance(config[token], list):\n",
    "            # need to cast to tuple because lists cannot be dict keys\n",
    "            option_value = tuple(config[token])\n",
    "        else:\n",
    "            option_value = config[token]\n",
    "        tokens[token] = name_rules[token][option_value]\n",
    "suffix = suffix_pattern.format(**tokens) \n",
    "config[\"suffix\"] = suffix"
   ]
  },
  {
   "cell_type": "code",
   "execution_count": 29,
   "id": "pleased-carter",
   "metadata": {},
   "outputs": [
    {
     "name": "stdout",
     "output_type": "stream",
     "text": [
      "{'chromosomes': '1-22',\n",
      " 'covariates': 'config_files/covariates/std_covariates.yaml',\n",
      " 'exec': {'plink': 'plink'},\n",
      " 'filename_patterns': {'genotype': 'config_files/genotype_patterns/genotype_patterns.yaml',\n",
      "                       'gwas': 'output/traditional_indices/{suffix}/GWAS__{{phenotype}}__{suffix}',\n",
      "                       'phenotype': 'data/cardiac_indices/CMR_info_LVRVLARA_11350.csv',\n",
      "                       'phenotype_intermediate': 'data/cardiac_indices/adjusted_for_covariates/CMR_info_LVRVLARA_11350.csv',\n",
      "                       'tmpdir': 'data/tmp/traditional_indices/{suffix}'},\n",
      " 'quality_control': 'config_files/quality_control/quality_control.yaml',\n",
      " 'sample_black_lists': None,\n",
      " 'sample_white_lists': ['data/ids_list/cmr_british_ids.txt',\n",
      "                        'data/ids_list/women.txt'],\n",
      " 'suffix': 'std_covariates__GBR_WOMEN__qc'}\n"
     ]
    }
   ],
   "source": [
    "pprint(config)"
   ]
  },
  {
   "cell_type": "code",
   "execution_count": 30,
   "id": "arranged-deployment",
   "metadata": {},
   "outputs": [],
   "source": [
    "config[\"filenames\"] = {}\n",
    "for _fp in [\"phenotype\", \"phenotype_intermediate\", \"tmpdir\", \"gwas\"]:\n",
    "    fp = config[\"filename_patterns\"][_fp]\n",
    "    tokens = extract_formatter_tokens(fp)\n",
    "    filename = fp.format(**{token: config.get(token, None) for token in tokens})\n",
    "        \n",
    "    if _fp != \"gwas\":\n",
    "        config[\"filename_patterns\"].pop(_fp, None)\n",
    "        config[\"filenames\"][_fp] = filename\n",
    "    else:\n",
    "        config[\"filename_patterns\"][_fp] = filename"
   ]
  },
  {
   "cell_type": "code",
   "execution_count": 31,
   "id": "stopped-regulation",
   "metadata": {},
   "outputs": [],
   "source": [
    "config[\"chromosomes\"] = 22"
   ]
  },
  {
   "cell_type": "code",
   "execution_count": 32,
   "id": "wired-nitrogen",
   "metadata": {},
   "outputs": [
    {
     "data": {
      "text/plain": [
       "{'chromosomes': 22,\n",
       " 'sample_white_lists': ['data/ids_list/cmr_british_ids.txt',\n",
       "  'data/ids_list/women.txt'],\n",
       " 'sample_black_lists': None,\n",
       " 'covariates': 'config_files/covariates/std_covariates.yaml',\n",
       " 'quality_control': 'config_files/quality_control/quality_control.yaml',\n",
       " 'filename_patterns': {'genotype': 'config_files/genotype_patterns/genotype_patterns.yaml',\n",
       "  'gwas': 'output/traditional_indices/std_covariates__GBR_WOMEN__qc/GWAS__{phenotype}__std_covariates__GBR_WOMEN__qc'},\n",
       " 'exec': {'plink': 'plink'},\n",
       " 'suffix': 'std_covariates__GBR_WOMEN__qc',\n",
       " 'filenames': {'phenotype': 'data/cardiac_indices/CMR_info_LVRVLARA_11350.csv',\n",
       "  'phenotype_intermediate': 'data/cardiac_indices/adjusted_for_covariates/CMR_info_LVRVLARA_11350.csv',\n",
       "  'tmpdir': 'data/tmp/traditional_indices/std_covariates__GBR_WOMEN__qc'}}"
      ]
     },
     "execution_count": 32,
     "metadata": {},
     "output_type": "execute_result"
    }
   ],
   "source": [
    "config"
   ]
  },
  {
   "cell_type": "markdown",
   "id": "solid-advance",
   "metadata": {},
   "source": [
    "### Adjust for covariates and inverse-normalise\n",
    "The studied phenotypes were found to be strongly associated with variables such as gender, height, BMI, age and blood pressure.\n",
    "In order to standardize the phenotypes, they are adjusted for all of these covariates."
   ]
  },
  {
   "cell_type": "code",
   "execution_count": 33,
   "id": "included-sheet",
   "metadata": {},
   "outputs": [
    {
     "name": "stdout",
     "output_type": "stream",
     "text": [
      "Rscript src/adjust_for_covariates.R -i data/cardiac_indices/CMR_info_LVRVLARA_11350.csv -o data/cardiac_indices/adjusted_for_covariates/CMR_info_LVRVLARA_11350.csv --samples_white_list data/ids_list/cmr_british_ids.txt data/ids_list/women.txt --covariates_file config_files/covariates/std_covariates.yaml --phenotypes_black_list ID subset\n"
     ]
    }
   ],
   "source": [
    "adjust_for_covariates(config)"
   ]
  },
  {
   "cell_type": "markdown",
   "id": "electrical-february",
   "metadata": {},
   "source": [
    "### Run GWAS"
   ]
  },
  {
   "cell_type": "code",
   "execution_count": 34,
   "id": "legislative-identity",
   "metadata": {},
   "outputs": [
    {
     "name": "stdout",
     "output_type": "stream",
     "text": [
      "Processing LVEDV...\n",
      "  Processing chromosome 22...\n",
      "Processing LVESV...\n",
      "  Processing chromosome 22...\n",
      "Processing LVSV...\n",
      "  Processing chromosome 22...\n",
      "Processing LVEF...\n",
      "  Processing chromosome 22...\n",
      "Processing LVM...\n",
      "  Processing chromosome 22...\n",
      "Processing RVEDV...\n",
      "  Processing chromosome 22...\n",
      "Processing RVESV...\n",
      "  Processing chromosome 22...\n",
      "Processing RVSV...\n",
      "  Processing chromosome 22...\n",
      "Processing RVEF...\n",
      "  Processing chromosome 22...\n",
      "Processing LAEDV...\n",
      "  Processing chromosome 22...\n",
      "Processing LAESV...\n",
      "  Processing chromosome 22...\n",
      "Processing LASV...\n",
      "  Processing chromosome 22...\n",
      "Processing LAEF...\n",
      "  Processing chromosome 22...\n",
      "Processing RAEDV...\n",
      "  Processing chromosome 22...\n",
      "Processing RAESV...\n",
      "  Processing chromosome 22...\n",
      "Processing RASV...\n",
      "  Processing chromosome 22...\n",
      "Processing RAEF...\n",
      "  Processing chromosome 22...\n"
     ]
    }
   ],
   "source": [
    "gwas = GWAS_Run(config)\n",
    "gwas.run()"
   ]
  },
  {
   "cell_type": "code",
   "execution_count": 35,
   "id": "compliant-equality",
   "metadata": {},
   "outputs": [
    {
     "data": {
      "text/plain": [
       "{'chromosomes': 22,\n",
       " 'sample_white_lists': ['data/ids_list/cmr_british_ids.txt',\n",
       "  'data/ids_list/women.txt'],\n",
       " 'sample_black_lists': None,\n",
       " 'covariates': {'data/covariates.csv': [{'id': 'eid'},\n",
       "   'X50',\n",
       "   'X4079',\n",
       "   'X4080',\n",
       "   'X21001',\n",
       "   'X21003',\n",
       "   'X31']},\n",
       " 'quality_control': {'hwe_pval_thres': '1e-6',\n",
       "  'snp_missing_rate_thres': 0.1,\n",
       "  'sample_missing_rate_thres': 0.1,\n",
       "  'maf_thres': 0.01},\n",
       " 'filename_patterns': {'genotype': {'bed': 'data/genotypes/calls/ukb_cal_chr{chromosome}_v2_31803_indiv.bed',\n",
       "   'bim': 'data/genotypes/calls/ukb_cal_chr{chromosome}_v2_31803_indiv.bim',\n",
       "   'fam': 'data/genotypes/calls/ukb_cal_chr{chromosome}_v2_31803_indiv.fam'},\n",
       "  'gwas': 'output/traditional_indices/std_covariates__GBR_WOMEN__qc/GWAS__{phenotype}__std_covariates__GBR_WOMEN__qc'},\n",
       " 'exec': {'plink': 'plink'},\n",
       " 'suffix': 'std_covariates__GBR_WOMEN__qc',\n",
       " 'filenames': {'phenotype': 'data/cardiac_indices/CMR_info_LVRVLARA_11350.csv',\n",
       "  'phenotype_intermediate': 'data/cardiac_indices/adjusted_for_covariates/CMR_info_LVRVLARA_11350.csv',\n",
       "  'tmpdir': 'data/tmp/traditional_indices/std_covariates__GBR_WOMEN__qc'},\n",
       " 'phenotypes': ['LVEDV',\n",
       "  'LVESV',\n",
       "  'LVSV',\n",
       "  'LVEF',\n",
       "  'LVM',\n",
       "  'RVEDV',\n",
       "  'RVESV',\n",
       "  'RVSV',\n",
       "  'RVEF',\n",
       "  'LAEDV',\n",
       "  'LAESV',\n",
       "  'LASV',\n",
       "  'LAEF',\n",
       "  'RAEDV',\n",
       "  'RAESV',\n",
       "  'RASV',\n",
       "  'RAEF']}"
      ]
     },
     "execution_count": 35,
     "metadata": {},
     "output_type": "execute_result"
    }
   ],
   "source": [
    "config"
   ]
  },
  {
   "cell_type": "markdown",
   "id": "changing-bryan",
   "metadata": {},
   "source": [
    "### Generate figures"
   ]
  },
  {
   "cell_type": "code",
   "execution_count": null,
   "id": "proper-briefs",
   "metadata": {},
   "outputs": [],
   "source": []
  }
 ],
 "metadata": {
  "kernelspec": {
   "display_name": "Python 3",
   "language": "python",
   "name": "python3"
  },
  "language_info": {
   "codemirror_mode": {
    "name": "ipython",
    "version": 3
   },
   "file_extension": ".py",
   "mimetype": "text/x-python",
   "name": "python",
   "nbconvert_exporter": "python",
   "pygments_lexer": "ipython3",
   "version": "3.7.4"
  }
 },
 "nbformat": 4,
 "nbformat_minor": 5
}
