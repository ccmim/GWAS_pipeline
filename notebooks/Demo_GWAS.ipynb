{
 "cells": [
  {
   "cell_type": "markdown",
   "metadata": {},
   "source": [
    "# GWAS workflow\n",
    "This notebook contains a typical workflow for running a GWAS.\n",
    "In this case, we study a set of cardiac morphological and functional parameters of the heart ventricles extracted from shape models derived from cardiovascular magnetic resonance (CMR)."
   ]
  },
  {
   "cell_type": "code",
   "execution_count": null,
   "metadata": {},
   "outputs": [],
   "source": [
    "import os, shlex\n",
    "from subprocess import call, check_output\n",
    "repo_rootdir = check_output(shlex.split(\"git rev-parse --show-toplevel\")).strip().decode('ascii')\n",
    "os.chdir(repo_rootdir)"
   ]
  },
  {
   "cell_type": "code",
   "execution_count": null,
   "metadata": {},
   "outputs": [],
   "source": [
    "import src.auxiliary"
   ]
  },
  {
   "cell_type": "code",
   "execution_count": null,
   "metadata": {},
   "outputs": [],
   "source": [
    "# Import modules\n",
    "import ipywidgets as widgets\n",
    "import pandas as pd\n",
    "import rpy2\n",
    "import yaml\n",
    "from copy import deepcopy\n",
    "import re"
   ]
  },
  {
   "cell_type": "code",
   "execution_count": null,
   "metadata": {},
   "outputs": [],
   "source": [
    "import sys\n",
    "import src.run_gwas as gwas \n",
    "from pprint import pprint"
   ]
  },
  {
   "cell_type": "code",
   "execution_count": null,
   "metadata": {},
   "outputs": [],
   "source": [
    "from src.run_gwas import GWAS_Run"
   ]
  },
  {
   "cell_type": "markdown",
   "metadata": {},
   "source": [
    "### Define GWAS configuration"
   ]
  },
  {
   "cell_type": "code",
   "execution_count": null,
   "metadata": {
    "scrolled": true
   },
   "outputs": [],
   "source": [
    "config_dir = \"config_files\"\n",
    "w = widgets.Dropdown(options=[x for x in os.listdir(config_dir) if x.endswith(\"yaml\")], value=\"ref_config.yaml\")\n",
    "display(w)"
   ]
  },
  {
   "cell_type": "code",
   "execution_count": null,
   "metadata": {},
   "outputs": [],
   "source": [
    "config_file = os.path.join(config_dir, w.value)\n",
    "config = yaml.load(open(config_file))\n",
    "pprint(config)"
   ]
  },
  {
   "cell_type": "markdown",
   "metadata": {},
   "source": [
    "##### Define file name rules"
   ]
  },
  {
   "cell_type": "code",
   "execution_count": null,
   "metadata": {},
   "outputs": [],
   "source": [
    "from main import adjust_for_covariates, generate_summary_and_figures, extract_formatter_tokens"
   ]
  },
  {
   "cell_type": "code",
   "execution_count": null,
   "metadata": {},
   "outputs": [],
   "source": [
    "name_rules = yaml.load(open(os.path.join(config_dir, \"filename_rules/filename_rules.yaml\")))\n",
    "pprint(name_rules)"
   ]
  },
  {
   "cell_type": "code",
   "execution_count": null,
   "metadata": {},
   "outputs": [],
   "source": [
    "suffix_pattern = \"{covariates}__{sample_white_lists}__{quality_control}\""
   ]
  },
  {
   "cell_type": "code",
   "execution_count": null,
   "metadata": {},
   "outputs": [],
   "source": [
    "tokens = extract_formatter_tokens(suffix_pattern)"
   ]
  },
  {
   "cell_type": "code",
   "execution_count": null,
   "metadata": {},
   "outputs": [],
   "source": [
    "for token in tokens:\n",
    "    if token in config.keys():\n",
    "        if isinstance(config[token], list):\n",
    "            # need to cast to tuple because lists cannot be dict keys\n",
    "            option_value = tuple(config[token])\n",
    "        else:\n",
    "            option_value = config[token]\n",
    "        tokens[token] = name_rules[token][option_value]\n",
    "suffix = suffix_pattern.format(**tokens) \n",
    "config[\"suffix\"] = suffix"
   ]
  },
  {
   "cell_type": "code",
   "execution_count": null,
   "metadata": {},
   "outputs": [],
   "source": [
    "pprint(config)"
   ]
  },
  {
   "cell_type": "code",
   "execution_count": null,
   "metadata": {},
   "outputs": [],
   "source": [
    "config[\"filenames\"] = {}\n",
    "for _fp in [\"phenotype\", \"phenotype_intermediate\", \"tmpdir\", \"gwas\"]:\n",
    "    fp = config[\"filename_patterns\"][_fp]\n",
    "    tokens = extract_formatter_tokens(fp)\n",
    "    filename = fp.format(**{token: config.get(token, None) for token in tokens})\n",
    "        \n",
    "    if _fp != \"gwas\":\n",
    "        config[\"filename_patterns\"].pop(_fp, None)\n",
    "        config[\"filenames\"][_fp] = filename\n",
    "    else:\n",
    "        config[\"filename_patterns\"][_fp] = filename"
   ]
  },
  {
   "cell_type": "code",
   "execution_count": null,
   "metadata": {},
   "outputs": [],
   "source": [
    "config[\"chromosomes\"] = 22"
   ]
  },
  {
   "cell_type": "code",
   "execution_count": null,
   "metadata": {},
   "outputs": [],
   "source": [
    "config"
   ]
  },
  {
   "cell_type": "markdown",
   "metadata": {},
   "source": [
    "### Adjust for covariates and inverse-normalise\n",
    "The studied phenotypes were found to be strongly associated with variables such as gender, height, BMI, age and blood pressure.\n",
    "In order to standardize the phenotypes, they are adjusted for all of these covariates."
   ]
  },
  {
   "cell_type": "code",
   "execution_count": null,
   "metadata": {},
   "outputs": [],
   "source": [
    "adjust_for_covariates(config)"
   ]
  },
  {
   "cell_type": "markdown",
   "metadata": {},
   "source": [
    "### Run GWAS"
   ]
  },
  {
   "cell_type": "code",
   "execution_count": null,
   "metadata": {},
   "outputs": [],
   "source": [
    "gwas = GWAS_Run(config)\n",
    "gwas.run()"
   ]
  },
  {
   "cell_type": "code",
   "execution_count": null,
   "metadata": {},
   "outputs": [],
   "source": [
    "config"
   ]
  },
  {
   "cell_type": "markdown",
   "metadata": {},
   "source": [
    "### Generate figures"
   ]
  },
  {
   "cell_type": "code",
   "execution_count": null,
   "metadata": {},
   "outputs": [],
   "source": []
  }
 ],
 "metadata": {
  "kernelspec": {
   "display_name": "Python 3",
   "language": "python",
   "name": "python3"
  },
  "language_info": {
   "codemirror_mode": {
    "name": "ipython",
    "version": 3
   },
   "file_extension": ".py",
   "mimetype": "text/x-python",
   "name": "python",
   "nbconvert_exporter": "python",
   "pygments_lexer": "ipython3",
   "version": "3.7.4"
  }
 },
 "nbformat": 4,
 "nbformat_minor": 5
}
